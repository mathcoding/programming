{
 "cells": [
  {
   "cell_type": "markdown",
   "metadata": {},
   "source": [
    "# Esercitazione 3: Processi di calcolo ricorsivi e iterativi\n",
    "\n",
    "### Esercizio 3.1\n",
    "\n",
    "Il **Massimo Comun Divisore (MCD)** di due numeri intero $a$ e $b$ è definito come\n",
    "il più grande numero intero che divide sia $a$ che $b$ senza resto.\n",
    "Esiste un algoritmo famoso, dovuto ad Euclide, per calcolare tale numero.\n",
    "L'idea dell'algoritmo si basa sull'osservazione che, se $r$ è il resto di quando $a$ è diviso per $b$,\n",
    "allora i divisori comuni di $a$ e $b$ sono esattamente esattamente gli stessi divisori comuni tra $b$ e $r$.\n",
    "Quindi possiamo usare l'equazione $$MCD(a,b) = MCD(b,r)$$ per ridurre il problema di\n",
    "trovare i divisori comuni calcolando il MCD tra coppie di numeri interi via via più piccoli. Per esempio:\n",
    "\n",
    "```MCD(206,40) = MCD(40,6) = MCD(6,4) = MCD(4,2) = MCD(2,0)=2```\n",
    "\n",
    "Scrivere una funzione che calcola il massimo comune divisore usando l'algoritmo di Euclide.\n",
    "\n",
    "**NOTA**: per calcolare il resto di una divisione tra due numeri interi si usa l'operatore modulo `\\%`,\n",
    "ovvero il simbolo percentuale (esempio: `7\\%3 = 1`)."
   ]
  },
  {
   "cell_type": "code",
   "execution_count": 3,
   "metadata": {},
   "outputs": [],
   "source": [
    "# Svolgere qui la soluzione dell'esercizio 2.1\n",
    "#\n",
    "# def .."
   ]
  },
  {
   "cell_type": "markdown",
   "metadata": {},
   "source": [
    "### Esercizio 3.2\n",
    "Scrivere due procedure per calcolare $n!$: la prima usando una funzione ricorsiva che genera\n",
    "un **processo ricorsivo lineare**, la seconda che genera un **processo iterativo lineare**\n",
    "(si veda il notebook usato a lezione per le definizioni dei processi di calcolo)."
   ]
  },
  {
   "cell_type": "code",
   "execution_count": 4,
   "metadata": {},
   "outputs": [],
   "source": [
    "# Svolgere qui la soluzione dell'esercizio 2.2\n",
    "#\n",
    "# def .."
   ]
  },
  {
   "cell_type": "markdown",
   "metadata": {},
   "source": [
    "### Esercizio 3.3\n",
    "Scrivere una procedura che calcoli `Fib(n)` (si veda il notebook usato a lezione) usando una funzione ricorsiva che genera\n",
    "un **processo ricorsivo**."
   ]
  },
  {
   "cell_type": "code",
   "execution_count": 5,
   "metadata": {},
   "outputs": [],
   "source": [
    "# Svolgere qui la soluzione dell'esercizio 2.3\n",
    "#\n",
    "# def .."
   ]
  },
  {
   "cell_type": "markdown",
   "metadata": {},
   "source": [
    "### Esercizio 3.4\n",
    "Scrivere una procedura che calcoli `Fib(n)` usando una funzione ricorsiva che genera\n",
    "un **processo iterativo**."
   ]
  },
  {
   "cell_type": "code",
   "execution_count": 6,
   "metadata": {},
   "outputs": [],
   "source": [
    "# Svolgere qui la soluzione dell'esercizio 2.4\n",
    "#\n",
    "# def .."
   ]
  },
  {
   "cell_type": "markdown",
   "metadata": {},
   "source": [
    "### Esercizio 3.5\n",
    "Si consideri il problema di calcolare l'esponenziale di un numero positivo. Vorremo avere una procedura che prende come argomenti la base $b$ e un intero positivo $n$, e calcola il valore $b^n$. Un modo possibile di procedere è utilizzando la definizione ricorsiva di esponenziale:\n",
    "\n",
    "$$\n",
    "\\begin{align}\n",
    "    b^n = \\left\\{\\begin{array}{ll} 1 & \\text{if }  n = 0 \\\\ b \\cdot b^{n-1} & \\text{if } n>0 \\end{array} \\right.\n",
    "\\end{align}\n",
    "$$\n",
    "\n",
    "Scrivere una procedura che applichi direttamente la definizione precedente."
   ]
  },
  {
   "cell_type": "code",
   "execution_count": 7,
   "metadata": {},
   "outputs": [],
   "source": [
    "# Svolgere qui la soluzione dell'esercizio 2.5\n",
    "#\n",
    "# def .."
   ]
  },
  {
   "cell_type": "markdown",
   "metadata": {},
   "source": [
    "### Esercizio 3.6\n",
    "Si consideri la funzione $f$ definita come segue:\n",
    "\n",
    "$$\n",
    "\\begin{align}\n",
    "\tf(n) = \\left\\{\\begin{array}{ll} n & \\text{if } n<3 \\\\ f(n-1)+2\\,f(n-2)+3\\,f(n-3) & \\text{if } n \\geq 3 \\end{array} \\right.\n",
    "\\end{align}\n",
    "$$\n",
    "\n",
    "* Si scriva una procedura che calcoli $f$ usando un **processo ricorsivo**.\n",
    "* Si scriva una procedura che calcoli $f$ usando un **processo iterativo**."
   ]
  },
  {
   "cell_type": "code",
   "execution_count": 8,
   "metadata": {},
   "outputs": [],
   "source": [
    "# Svolgere qui la soluzione dell'esercizio 2.6\n",
    "#\n",
    "# def .."
   ]
  },
  {
   "cell_type": "markdown",
   "metadata": {},
   "source": [
    "### Esercizio 3.7\n",
    "Si scriva un **predicato** che ci dica se un dato numero $n$ è un numero primo.\n",
    "Si può usare la definizione che $n$ è un numero primo, se e solo se $n$ è il suo più piccolo divisore maggiore di uno\n",
    "(*suggerimento: scrivere prima una funzione che trova il più piccolo divisore di $n$*)."
   ]
  },
  {
   "cell_type": "code",
   "execution_count": 9,
   "metadata": {},
   "outputs": [],
   "source": [
    "# Svolgere qui la soluzione dell'esercizio 2.7\n",
    "#\n",
    "# def .."
   ]
  },
  {
   "cell_type": "markdown",
   "metadata": {},
   "source": [
    "### Facoltativo: Challenge 1\n",
    "Si consideri il problema seguente. Siano date le monetine da 1, 2, 5 e 10 centesimi di euro: quanti modi esistono per cambiare una monetina da 20 centesimi? E se consideriamo anche le monetine da 20 e 50 centesimi, in quanti modi possiamo cambiare una moneta da un euro? "
   ]
  },
  {
   "cell_type": "code",
   "execution_count": 10,
   "metadata": {},
   "outputs": [],
   "source": [
    "# Svolgere qui la soluzione della Challenge 1\n",
    "#\n",
    "# def .."
   ]
  },
  {
   "cell_type": "markdown",
   "metadata": {},
   "source": [
    "### Facoltativo: Challenge 2\n",
    "Si scriva una procedura che calcoli i numeri di Fibonacci con un processo di calcolo che richieda un numero di operazioni proporzionale a $\\log(n)$."
   ]
  },
  {
   "cell_type": "code",
   "execution_count": 11,
   "metadata": {},
   "outputs": [],
   "source": [
    "# Svolgere qui la soluzione della Challenge 2\n",
    "#\n",
    "# def .."
   ]
  }
 ],
 "metadata": {
  "kernelspec": {
   "display_name": "Python 3.11.5 64-bit",
   "language": "python",
   "name": "python3"
  },
  "language_info": {
   "codemirror_mode": {
    "name": "ipython",
    "version": 3
   },
   "file_extension": ".py",
   "mimetype": "text/x-python",
   "name": "python",
   "nbconvert_exporter": "python",
   "pygments_lexer": "ipython3",
   "version": "3.11.5"
  },
  "orig_nbformat": 4,
  "vscode": {
   "interpreter": {
    "hash": "b0fa6594d8f4cbf19f97940f81e996739fb7646882a419484c72d19e05852a7e"
   }
  }
 },
 "nbformat": 4,
 "nbformat_minor": 2
}
