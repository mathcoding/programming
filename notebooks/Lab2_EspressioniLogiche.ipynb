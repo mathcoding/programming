{
 "cells": [
  {
   "cell_type": "markdown",
   "metadata": {},
   "source": [
    "## 1.5 Variabili Booleane ed Espressioni Logiche\n",
    "Una variabile booleana `p` è un simbolo che prende un valore booleano: `p` è uguale a *vero*, oppure è uguale a *falso*, non può mai assumere i due valori allo stesso tempo, e deve sempre essere uguale a uno (e uno solo) dei due. L'aggettivo *booleano* si deve a [George Boole](https://en.wikipedia.org/wiki/George_Boole), il pioniere della [logica matematica](https://en.wikipedia.org/wiki/Boolean_algebra).\n",
    "\n",
    "In Python, i due valori booleani sono dati primitivi, rappresentati dai simboli `True` e `False`. In pratica, `True` e `False` sono altre due parole chiave (*keywords*) che sono riservate all'interprete del linguaggio, e non possono essere usate per definire variabili o funzioni."
   ]
  },
  {
   "cell_type": "code",
   "execution_count": null,
   "metadata": {},
   "outputs": [],
   "source": [
    "not False"
   ]
  },
  {
   "cell_type": "code",
   "execution_count": null,
   "metadata": {},
   "outputs": [],
   "source": [
    "True = 13"
   ]
  },
  {
   "cell_type": "code",
   "execution_count": null,
   "metadata": {},
   "outputs": [],
   "source": [
    "return = 12\n"
   ]
  },
  {
   "cell_type": "markdown",
   "metadata": {},
   "source": [
    "In qualsiasi linguaggio di programmazione, oltre alle espressioni aritmetiche, è possibile valutare delle espressioni logiche, utilizzando gli operatori logici `and`, `or`, e `not`. Le tabelle logiche degli operatori `and` e `or` sono:\n",
    "\n",
    "| Primo operando | Secondo operando | `and` | `or` |\n",
    "|:--:|:--:|:--:|:--:|\n",
    "| `False` | `False` | `False` | `False` | \n",
    "| `False` | `True ` | `False` | `True`  |\n",
    "| `True`  | `False` | `False` | `True`  |\n",
    "| `True`  | `True`  | `True`  | `True`  |"
   ]
  },
  {
   "cell_type": "code",
   "execution_count": null,
   "metadata": {},
   "outputs": [],
   "source": [
    "True and False"
   ]
  },
  {
   "cell_type": "code",
   "execution_count": null,
   "metadata": {},
   "outputs": [],
   "source": [
    "True or False"
   ]
  },
  {
   "cell_type": "code",
   "execution_count": null,
   "metadata": {},
   "outputs": [],
   "source": [
    "False and False or True"
   ]
  },
  {
   "cell_type": "code",
   "execution_count": null,
   "metadata": {},
   "outputs": [],
   "source": [
    "True or False and False"
   ]
  },
  {
   "cell_type": "markdown",
   "metadata": {},
   "source": [
    "**DOMANDA**: guardando gli ultimi due esempi, si riesce a capire se l'operatore `and` ha la precedenza sull'operatore `or`? La descrizione completa delle precedenze sugli operatori si trova nella [documentazione ufficiale](https://docs.python.org/3/reference/expressions.html#operator-precedence)."
   ]
  },
  {
   "cell_type": "markdown",
   "metadata": {},
   "source": [
    "Anche per gli operatori logici è possibile usare una notazione prefix, importando la libreria `operator`:"
   ]
  },
  {
   "cell_type": "code",
   "execution_count": null,
   "metadata": {},
   "outputs": [],
   "source": [
    "# Importa dalla libreria solo i tre operatori logici\n",
    "from operator import and_, or_, not_"
   ]
  },
  {
   "cell_type": "code",
   "execution_count": null,
   "metadata": {},
   "outputs": [],
   "source": [
    "not_(or_(True, and_(False, True)))"
   ]
  },
  {
   "cell_type": "markdown",
   "metadata": {},
   "source": [
    "In alternativa, per dichiarare una precedenza tra gli operatori si possono usare le parentesi tonde:"
   ]
  },
  {
   "cell_type": "code",
   "execution_count": null,
   "metadata": {},
   "outputs": [],
   "source": [
    "not (True or (False and True))"
   ]
  },
  {
   "cell_type": "markdown",
   "metadata": {},
   "source": [
    "### Operatori logici di confronto\n",
    "Oltre agli operatori logici è possibile utilizzare gli operatori di confronto seguenti:\n",
    "\n",
    "| Simbolo matematico | Keyword Python | Notazione prefix |\n",
    "|:--:|:--:|:--:|\n",
    "|  $a < b$  | `a < b`   | `lt(a, b)` | \n",
    "|  $a \\leq b$  | `a <= b`   | `le(a, b)` | \n",
    "|  $a > b$  | `a > b`   | `gt(a, b)` | \n",
    "|  $a \\geq b$  | `a >= b`   | `ge(a, b)` | \n",
    "|  $a = b$  | `a == b`   | `eq(a, b)` | \n",
    "|  $a <> b$  | `a != b`   | `neq(a, b)` | "
   ]
  },
  {
   "cell_type": "code",
   "execution_count": null,
   "metadata": {},
   "outputs": [],
   "source": [
    "# Importa dalla libreria solo i tre operatori logici\n",
    "from operator import lt, le, gt, ge, eq"
   ]
  },
  {
   "cell_type": "markdown",
   "metadata": {},
   "source": []
  },
  {
   "cell_type": "markdown",
   "metadata": {},
   "source": [
    "**IMPORTANTE:** non si confonda l'operatore di assegnamento `=` con l'operatore di confronto `==`, in quanto hanno due significati completamente diversi."
   ]
  },
  {
   "cell_type": "code",
   "execution_count": null,
   "metadata": {},
   "outputs": [],
   "source": [
    "True == True"
   ]
  },
  {
   "cell_type": "code",
   "execution_count": null,
   "metadata": {},
   "outputs": [],
   "source": [
    "6*3 < 7*2"
   ]
  },
  {
   "cell_type": "code",
   "execution_count": null,
   "metadata": {},
   "outputs": [],
   "source": [
    "14*2 == 4*7"
   ]
  },
  {
   "cell_type": "code",
   "execution_count": null,
   "metadata": {},
   "outputs": [],
   "source": [
    "eq(14*2, 4*7)"
   ]
  },
  {
   "cell_type": "code",
   "execution_count": null,
   "metadata": {},
   "outputs": [],
   "source": [
    "le(3*2, ge(2,3))"
   ]
  },
  {
   "cell_type": "code",
   "execution_count": null,
   "metadata": {},
   "outputs": [],
   "source": [
    "round(3.7)"
   ]
  },
  {
   "cell_type": "markdown",
   "metadata": {},
   "source": [
    "**DOMANDA**: Cosa osservate dall'espressione precedente? La **sintassi** è corretta? Qual'è la sua **semantica** (come viene valutata l'espressione)?"
   ]
  },
  {
   "cell_type": "markdown",
   "metadata": {},
   "source": [
    "## 1.6 Espressioni condizionali e predicati\n",
    "Qualsiasi linguaggio di programmazione deve avere un modo per poter verificare delle condizioni particolari e applicare delle procedure specifiche in base all'esito di tali condizioni. Ovvero, si devono poter definire delle **espressioni condizionali**. In Python la sintassi per le espressioni condizionali è la seguente:\n",
    "\n",
    "```\n",
    "if <predicato1>:\n",
    "    <body1>\n",
    "elif <predicato2>:\n",
    "    <body2>\n",
    "else:\n",
    "    <body3>\n",
    "```\n",
    "\n",
    "Per **predicato** si intende una *espressione logica* o una procedura (meglio, una **funzione**) che restituisce un valore booleano, ovvero `True` o `False`.\n",
    "\n",
    "Per definire delle espressioni logiche, si possono utilizzare gli operatori di confronto e gli operatori logici. Oppure, si possono usare nuovi predicati definiti nel programma che si sta scrivendo.\n",
    "\n",
    "**ESEMPIO**:"
   ]
  },
  {
   "cell_type": "code",
   "execution_count": null,
   "metadata": {},
   "outputs": [],
   "source": [
    "if not 3 > 4:\n",
    "    a = 3*2\n",
    "else:\n",
    "    a = 4*2"
   ]
  },
  {
   "cell_type": "code",
   "execution_count": null,
   "metadata": {},
   "outputs": [],
   "source": [
    "a"
   ]
  },
  {
   "cell_type": "code",
   "execution_count": null,
   "metadata": {},
   "outputs": [],
   "source": [
    "x = -5\n",
    "\n",
    "if x > 10:\n",
    "    print('uno')\n",
    "else:\n",
    "    print('4')"
   ]
  },
  {
   "cell_type": "code",
   "execution_count": null,
   "metadata": {},
   "outputs": [],
   "source": [
    "print(a)"
   ]
  },
  {
   "cell_type": "code",
   "execution_count": null,
   "metadata": {},
   "outputs": [],
   "source": [
    "def Test(x):\n",
    "    return x > 5 and x < 10"
   ]
  },
  {
   "cell_type": "code",
   "execution_count": null,
   "metadata": {},
   "outputs": [],
   "source": [
    "Test(2)"
   ]
  },
  {
   "cell_type": "code",
   "execution_count": null,
   "metadata": {},
   "outputs": [],
   "source": [
    "Test(6)"
   ]
  },
  {
   "cell_type": "code",
   "execution_count": null,
   "metadata": {},
   "outputs": [],
   "source": [
    "def ThreeAnd(x,y,z):\n",
    "    print(x, y, z)\n",
    "    return x and y and z"
   ]
  },
  {
   "cell_type": "code",
   "execution_count": null,
   "metadata": {},
   "outputs": [],
   "source": [
    "ThreeAnd(2>4, 1<2, 1==3)"
   ]
  },
  {
   "cell_type": "markdown",
   "metadata": {},
   "source": [
    "A questo punto, abbiamo tutti gli elementi per poter scrivere la funzione valore assoluto definita nella Sezione 1.4."
   ]
  },
  {
   "cell_type": "code",
   "execution_count": null,
   "metadata": {},
   "outputs": [],
   "source": [
    "def Abs(x):\n",
    "    if x >= 0:\n",
    "        return x\n",
    "    return -x"
   ]
  },
  {
   "cell_type": "code",
   "execution_count": null,
   "metadata": {},
   "outputs": [],
   "source": [
    "Abs(-3)"
   ]
  },
  {
   "cell_type": "code",
   "execution_count": null,
   "metadata": {},
   "outputs": [],
   "source": [
    "who"
   ]
  },
  {
   "cell_type": "code",
   "execution_count": null,
   "metadata": {},
   "outputs": [],
   "source": [
    "Abs(5)"
   ]
  },
  {
   "cell_type": "code",
   "execution_count": null,
   "metadata": {},
   "outputs": [],
   "source": [
    "abs(-5)"
   ]
  },
  {
   "cell_type": "code",
   "execution_count": null,
   "metadata": {},
   "outputs": [],
   "source": [
    "from math import pow, sqrt"
   ]
  },
  {
   "cell_type": "code",
   "execution_count": null,
   "metadata": {},
   "outputs": [],
   "source": [
    "pow(139,2)"
   ]
  },
  {
   "cell_type": "markdown",
   "metadata": {},
   "source": [
    "## Esercizi\n",
    "**ESERCIZIO 1.3**: Viene data sotto una serie di espressioni. Qual è il risultato dell'interprete in risposta a ciascuna espressione? Si assuma che la sequenza viene valutata nell'ordine in cui vi viene presentata.\n",
    "\n",
    "```\n",
    "from operator import add, sub, mul\n",
    "10\n",
    "5 + 3 + 4\n",
    "sub(9, 1)\n",
    "add(mul(2, 4), sub(4, 6))\n",
    "a = 3\n",
    "b = add(a, 1)\n",
    "a = b\n",
    "b = add(a, add(b, mul(a, b)))\n",
    "if gt(a, b) = lt(b, mul(a, b)):\n",
    "    print(b)\n",
    "else:\n",
    "    print(a)\n",
    "```\n"
   ]
  },
  {
   "cell_type": "code",
   "execution_count": null,
   "metadata": {},
   "outputs": [],
   "source": []
  },
  {
   "cell_type": "markdown",
   "metadata": {},
   "source": [
    "**ESERCIZIO 1.4**: Si traduca l'espressione seguente in notazione *prefix*:\n",
    "\n",
    "$\\frac{5+4+(2 - (3 - ( 6 + \\frac{4}{5})))}{3(6-2)(2-7)}$"
   ]
  },
  {
   "cell_type": "code",
   "execution_count": null,
   "metadata": {},
   "outputs": [],
   "source": []
  },
  {
   "cell_type": "markdown",
   "metadata": {},
   "source": [
    "**ESERCIZIO 1.5:** Si scriva una procedura che prenda tre numeri come argomenti e restituisca la somma dei quadrati dei due numeri più grandi."
   ]
  },
  {
   "cell_type": "code",
   "execution_count": null,
   "metadata": {},
   "outputs": [],
   "source": []
  },
  {
   "cell_type": "markdown",
   "metadata": {},
   "source": [
    "**ESERCIZIO 1.6:** Si osservi che il modello di valutazione dell'interprete visto sino ad ora permette la valutazione di procedure in cui si hanno procedure composte. Si osservi l'esempio seguente e si commenti il comportamento dell'interprete in questo caso:"
   ]
  },
  {
   "cell_type": "code",
   "execution_count": null,
   "metadata": {},
   "outputs": [],
   "source": [
    "from operator import add, sub\n",
    "def F(a, b):\n",
    "    if b > 0:\n",
    "        return add\n",
    "    else:\n",
    "        return sub\n",
    "    \n",
    "def G(a, b):\n",
    "    return F(a,b)(a,b)"
   ]
  },
  {
   "cell_type": "code",
   "execution_count": null,
   "metadata": {},
   "outputs": [],
   "source": [
    "a = G(2,3)"
   ]
  },
  {
   "cell_type": "code",
   "execution_count": null,
   "metadata": {},
   "outputs": [],
   "source": [
    "a(3,2)"
   ]
  },
  {
   "cell_type": "markdown",
   "metadata": {},
   "source": [
    "**ESERCIZIO 1.7:** Il sig. Bit ha inventato un test per determinare se l'interprete del linguaggio che sta usando segue un *applicative-order evaluation* oppure un *normal-order evaluation*. L'idea è di definire due procedure:"
   ]
  },
  {
   "cell_type": "code",
   "execution_count": null,
   "metadata": {},
   "outputs": [],
   "source": [
    "def P():\n",
    "    return P()\n"
   ]
  },
  {
   "cell_type": "code",
   "execution_count": null,
   "metadata": {},
   "outputs": [],
   "source": [
    "def Test(x, y):\n",
    "    if x == 0:\n",
    "        return 0\n",
    "    else:\n",
    "        return y"
   ]
  },
  {
   "cell_type": "markdown",
   "metadata": {},
   "source": [
    "e poi de valutare l'espressione:\n",
    "\n",
    "```\n",
    "Test(0,P())\n",
    "```\n",
    "\n",
    "Quale comportamento osserverà il signor Bit con un interprete che usa una *applicative-order evaluation*? Quale comportamento osserverà con un interprete che usa una *normal-order evaluation*? Spiegare la risposta data."
   ]
  },
  {
   "cell_type": "code",
   "execution_count": null,
   "metadata": {},
   "outputs": [],
   "source": [
    "Test(0,P())"
   ]
  }
 ],
 "metadata": {
  "@webio": {
   "lastCommId": null,
   "lastKernelId": null
  },
  "kernelspec": {
   "display_name": "base",
   "language": "python",
   "name": "python3"
  },
  "language_info": {
   "codemirror_mode": {
    "name": "ipython",
    "version": 3
   },
   "file_extension": ".py",
   "mimetype": "text/x-python",
   "name": "python",
   "nbconvert_exporter": "python",
   "pygments_lexer": "ipython3",
   "version": "3.9.16"
  }
 },
 "nbformat": 4,
 "nbformat_minor": 2
}
