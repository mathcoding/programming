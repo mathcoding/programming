{
 "cells": [
  {
   "cell_type": "markdown",
   "metadata": {},
   "source": [
    "# 3. Programmare Grafici\n",
    "In questo capitolo vedremo con in Python possiamo rappresentare dei grafici di funzioni di variabili reali a valori reali matematiche (Sezione 3.1) e di semplici funzione trigonometriche (Sezione 3.2). In seguito, vediamo come sia possbile programmare delle  funzioni per rappresentare graficamente il concetto di ricorsione visto nel capitolo precedente, arrivando a programmare il *Woodcut* di Escher."
   ]
  },
  {
   "cell_type": "markdown",
   "metadata": {},
   "source": [
    "## 3.1 Funzioni di variabili reali a valori reali\n",
    "Vediamo ora come sia possibile riprodurre in Python i grafici seguenti, presi da un testo classico di Analisi (il Giaquinta-Modica):\n",
    "\n",
    "![Fig38](./images/Fig38.png)"
   ]
  },
  {
   "cell_type": "markdown",
   "metadata": {},
   "source": [
    "![Fig39](./images/Fig39.png)"
   ]
  },
  {
   "cell_type": "markdown",
   "metadata": {},
   "source": [
    "![Fig319](./images/Fig319.png)"
   ]
  },
  {
   "cell_type": "markdown",
   "metadata": {},
   "source": [
    "Per poter riprodurre questi plot in Python, prima cosa dobbiamo importare nel workspace le due librerie seguenti:\n",
    "\n",
    "1. Numerical Python: [Numpy](http://www.numpy.org/)\n",
    "2. Python Plotting: [Matplotlib](https://matplotlib.org/)"
   ]
  },
  {
   "cell_type": "markdown",
   "metadata": {
    "slideshow": {
     "slide_type": "slide"
    }
   },
   "source": [
    "In Python, per importare tutte le procedure e le funzioni di una libreria si usa il comando:\n",
    "```\n",
    "from <nome_libreria> import *\n",
    "```\n",
    "In questo modo, se al posto di `nome_libreria` mettiamo per esempio `numpy`, importeremo nel nostro workspace tutte le funzioni definite nella libreria `numpy`. Spesso, per tenere il workspace *pulito* (poche variabili, poche funzioni) si importano solo le funzioni della libreria che devono essere effettivamente usate.\n",
    "Nel nostro caso, dalle due librerie servono sono la funzione `linspace` di `numpy`, e le procedure `plot, xlabel, ylabel, show` di `matplotlib`:"
   ]
  },
  {
   "cell_type": "code",
   "execution_count": 2,
   "metadata": {},
   "outputs": [],
   "source": [
    "# Importo dalla libreria solo le procedure che utilizzo\n",
    "from numpy import linspace\n",
    "from matplotlib.pyplot import plot, xlabel, ylabel, show"
   ]
  },
  {
   "cell_type": "code",
   "execution_count": null,
   "metadata": {},
   "outputs": [],
   "source": [
    "who"
   ]
  },
  {
   "cell_type": "code",
   "execution_count": 4,
   "metadata": {},
   "outputs": [],
   "source": [
    "from numpy import *"
   ]
  },
  {
   "cell_type": "code",
   "execution_count": null,
   "metadata": {
    "slideshow": {
     "slide_type": "fragment"
    }
   },
   "outputs": [],
   "source": [
    "who"
   ]
  },
  {
   "cell_type": "markdown",
   "metadata": {
    "slideshow": {
     "slide_type": "slide"
    }
   },
   "source": [
    "Vediamo prima a cosa serve la funzione [linspace(a, b, n)](https://docs.scipy.org/doc/numpy-1.13.0/reference/generated/numpy.linspace.html). Questa funzione serve per ottenere una sequenza di $n$ numeri equidistanziati nell'intervallo $[a,b]$. Per esempio:"
   ]
  },
  {
   "cell_type": "code",
   "execution_count": null,
   "metadata": {
    "slideshow": {
     "slide_type": "fragment"
    }
   },
   "outputs": [],
   "source": [
    "linspace(-2, 2, 5)"
   ]
  },
  {
   "cell_type": "markdown",
   "metadata": {
    "slideshow": {
     "slide_type": "subslide"
    }
   },
   "source": [
    "In pratica, possiamo usare la funzione `linspace` per definire il dominio di una funzione come un insieme finito di punti in $\\mathbb{R}$. Facendo riferimento alla Figura 3.8 riportata sopra, possiamo definire il dominio:"
   ]
  },
  {
   "cell_type": "code",
   "execution_count": null,
   "metadata": {
    "slideshow": {
     "slide_type": "skip"
    }
   },
   "outputs": [],
   "source": [
    "D = linspace(-2, 2, 1000)\n",
    "# print(D)"
   ]
  },
  {
   "cell_type": "markdown",
   "metadata": {},
   "source": [
    "Per ogni punto del dominio $x\\in D$, possiamo calcolare il valore di $y=f(x)$. Dobbiamo definire ora qual'è la funzione di cui vogliamo effettivamente visualizzare il grafico. Consideriamo prima la funzione:\n",
    "\n",
    "$f(x) = x^2$\n",
    "\n",
    "Che può essere implementata in modo diretto con la funzione seguente che usa l'operatore `**` per \n",
    "l'elevamento a potenza, ovvero `a**b` rappresenta $a$ *elevato* $b$:"
   ]
  },
  {
   "cell_type": "code",
   "execution_count": 9,
   "metadata": {},
   "outputs": [],
   "source": [
    "def Quadrato(x):\n",
    "    return x**2"
   ]
  },
  {
   "cell_type": "markdown",
   "metadata": {},
   "source": [
    "**ATTENZIONE**: In Python, l'operatore `^` non viene usato per l'elevamento a potenza, ma indica il [Bitwise XOR](https://docs.python.org/3/reference/expressions.html)."
   ]
  },
  {
   "cell_type": "code",
   "execution_count": null,
   "metadata": {},
   "outputs": [],
   "source": [
    "4^2"
   ]
  },
  {
   "cell_type": "code",
   "execution_count": null,
   "metadata": {},
   "outputs": [],
   "source": [
    "print(bin(4))\n",
    "print(bin(2))\n",
    "print(bin(6))"
   ]
  },
  {
   "cell_type": "markdown",
   "metadata": {},
   "source": [
    "A questo punto, tornando al plot di una funzione, ci serve un modo per applicare la funzione matematica scelta ad ogni elemento del dominio. Per far questo. possiamo usare una sintassi particolare, chiamata **list comprehension**, definita come segue:\n",
    "```\n",
    "Y = [F(x) for x in D]\n",
    "```\n",
    "in cui `<for>` e `<in>` sono due parole chiave di Python, mentre `<F>`, `<D>`, e `<Y>` sono rispettivamente:"
   ]
  },
  {
   "cell_type": "markdown",
   "metadata": {},
   "source": [
    "1. (input) `F()` è una procedura che implementa una funzione $f : \\mathbb{R} \\rightarrow \\mathbb{R}$, come ad esempio la funzione `Quadrato` definita sopra.\n",
    "\n",
    "2. (input) `D` è una sequenza di numeri, ottenuta per esempio con la funzione `linspace`, a cui vogliamo applicare la funzione `F()`.\n",
    "\n",
    "3. (output) `Y` è una sequenza di numeri, della stessa lunghezza di `D`, che contiene per ogni elemento `x in D`, il corrispondente valore `F(x)`. \n",
    "\n",
    "Vediamo un semplice esempio concreto:"
   ]
  },
  {
   "cell_type": "code",
   "execution_count": null,
   "metadata": {},
   "outputs": [],
   "source": [
    "D = linspace(-2,2,5)\n",
    "print(D)"
   ]
  },
  {
   "cell_type": "code",
   "execution_count": null,
   "metadata": {},
   "outputs": [],
   "source": [
    "Y = [Quadrato(x) for x in D]\n",
    "print(Y)"
   ]
  },
  {
   "cell_type": "markdown",
   "metadata": {},
   "source": [
    "Come si può vedere ad ogni elemento della sequenza `D` corrisponde un valore della sequenza `Y`, che contiene il suo quadrato. Possiamo usare questi punti per interpolare un grafico di questa funzione, ma per ottenere un'interpolazione accurata, dobbiamo utilizzare un numero più elevato di elementi del dominio.\n",
    "\n",
    "Se ritorniamo all'esempio della Figura 3.8 mostrata, possiamo definire le coppie da rappresentare $(x, y)$, ovvero $(x, f(x))$, nel modo seguente:"
   ]
  },
  {
   "cell_type": "code",
   "execution_count": 3,
   "metadata": {},
   "outputs": [],
   "source": [
    "D = linspace(-2,2,1000) # 1000 punti equi distanziati nell'intervallo [-2,2]"
   ]
  },
  {
   "cell_type": "code",
   "execution_count": 5,
   "metadata": {},
   "outputs": [],
   "source": [
    "Y = [x**2 for x in D]"
   ]
  },
  {
   "cell_type": "code",
   "execution_count": null,
   "metadata": {},
   "outputs": [],
   "source": [
    "print(D[0], Y[0])"
   ]
  },
  {
   "cell_type": "markdown",
   "metadata": {},
   "source": [
    "Vediamo ora come utilizzare questi punti per creare un grafico di `Quadrato(x)`. \n",
    "\n",
    "Per poterlo fare dobbiamo utilizzare le funzioni:\n",
    "\n",
    "* `plot(x, y)`: prepara il grafico per ogni coppia di punti contenuti nelle due sequenze x e y. Le due sequenze devono essere della stessa lunghezza.\n",
    "* `xlabel` e `ylabel`: servono per definire la descrizione dell'asse delle ascisse e delle ordinate.\n",
    "* `show`: serve per visualizzare effettivamente il grafico appena definito.\n",
    "\n",
    "Per maggiori dettagli, si veda la documentazione di [plot](http://matplotlib.org/api/_as_gen/matplotlib.pyplot.plot.html), [xlabel](https://matplotlib.org/devdocs/api/_as_gen/matplotlib.pyplot.xlabel.html), [ylabel](https://matplotlib.org/devdocs/api/_as_gen/matplotlib.pyplot.ylabel.html) e [show](https://matplotlib.org/devdocs/api/_as_gen/matplotlib.pyplot.show.html).\n",
    "\n",
    "Utilizzando questi comandi, possiamo rappresentare graficamente la funzione $x^2$:"
   ]
  },
  {
   "cell_type": "code",
   "execution_count": null,
   "metadata": {},
   "outputs": [],
   "source": [
    "plot(D,Y)\n",
    "xlabel(\"x\")\n",
    "ylabel(\"y=f(x)=x^2\")\n",
    "show()"
   ]
  },
  {
   "cell_type": "markdown",
   "metadata": {},
   "source": [
    "Se invece di rappresentare la funzione $f(x)=x^2$ volessimo rappresentare la funzione $f(x)=x^3$, definita nello stesso dominio, ci basta calcolare la sequenza di numeri `Y`:"
   ]
  },
  {
   "cell_type": "code",
   "execution_count": null,
   "metadata": {},
   "outputs": [],
   "source": [
    "Y = [x**3 for x in D]"
   ]
  },
  {
   "cell_type": "code",
   "execution_count": null,
   "metadata": {},
   "outputs": [],
   "source": [
    "plot(D,Y)\n",
    "xlabel(\"x\")\n",
    "ylabel(\"y=f(x)=x^3\")\n",
    "show()"
   ]
  },
  {
   "cell_type": "markdown",
   "metadata": {},
   "source": [
    "A volte, quello che si vuole fare in analisi per studiare una funzione è sovrapporre sullo stesso grafico funzioni tra di loro simili, ma che sono definite da valori diversi dello stesso parametro. Se consideriamo per esempio la funzione potenza $f(x)=x^n$ per $x \\in D$, potremmo voler dare una rappresentazione grafica delle quattro funzioni che si ottengono al variare del parametro $n \\in \\{1,2,3,4\\}$. Questo può essere ottenuto in Python richiamando più volte la funzione `plot(x,y)`, prima di chiamare la funzione `show()`.\n",
    "\n",
    "**ESEMPIO:** (diverse funzioni sullo stesso plot)"
   ]
  },
  {
   "cell_type": "code",
   "execution_count": null,
   "metadata": {},
   "outputs": [],
   "source": [
    "D = linspace(-2, 2, 1000)\n",
    "plot(D, [x**1 for x in D])\n",
    "plot(D, [x**2 for x in D])\n",
    "plot(D, [x**3 for x in D])\n",
    "plot(D, [x**4 for x in D])\n",
    "xlabel(\"x\")\n",
    "ylabel(\"f(x)\")\n",
    "show()"
   ]
  },
  {
   "cell_type": "markdown",
   "metadata": {},
   "source": [
    "In alcuni casi, può essere utile rappresentare una funzione in scala logaritmica su entrambi gli assi, oppure, può essere utile aggiungere una legenda al grafico, per poter distinguere facilmente le diverse funzioni rappresentate. In questo caso si devono usare le procedure `xscale`, `yscale`, e `legend`, come mostrato nell'esempio seguente.\n",
    "\n",
    "Per maggiori dettagli, si veda la documentazione di  [xscale](https://matplotlib.org/devdocs/api/_as_gen/matplotlib.pyplot.xscale.html), [yscale](https://matplotlib.org/devdocs/api/_as_gen/matplotlib.pyplot.yscale.html) e [legend](https://matplotlib.org/devdocs/api/_as_gen/matplotlib.pyplot.legend.html).\n",
    "\n",
    "Per poter tracciare una linea verticale lunga quanto gli assi si può usare la funzione [avxline](https://matplotlib.org/stable/api/_as_gen/matplotlib.axes.Axes.axvline.html). Per tracciare una linea orizzontale [avhline](https://matplotlib.org/stable/api/_as_gen/matplotlib.axes.Axes.axhline.html).\n",
    "\n",
    "**ESEMPIO:** (coordinate cartesiane e legenda)"
   ]
  },
  {
   "cell_type": "code",
   "execution_count": null,
   "metadata": {},
   "outputs": [],
   "source": [
    "%matplotlib inline\n",
    "# Importo dalla libreria solo gli oggetti che mi servono veramente\n",
    "from numpy import linspace\n",
    "from matplotlib.pyplot import ylim, axvline, plot, xlabel, ylabel, show, xscale, yscale, legend\n",
    "D = linspace(0.01, 100, 1000)\n",
    "plot(D, [x**1 for x in D], label=\"y=x\")\n",
    "plot(D, [x**2 for x in D], label=\"y=x^2\")\n",
    "plot(D, [x**3 for x in D], label=\"y=x^3\")\n",
    "plot(D, [x**4 for x in D], label=\"y=x^4\")\n",
    "xscale(\"log\")\n",
    "yscale(\"log\")\n",
    "xlabel(\"x - log scale\")\n",
    "ylabel(\"y=f(x)=x^n - log scale\")\n",
    "legend(loc=\"upper left\", shadow=True)\n",
    "show()"
   ]
  },
  {
   "cell_type": "markdown",
   "metadata": {},
   "source": [
    "## 3.2 Funzioni trigonometriche\n",
    "Per poter rappresentare delle funzioni trigonometriche è necessario utilizzare una terza libreria di Python (abbiamo già usato `numpy` e `matplotlib`), chiamata `math`, che definisce molte costanti note (e.g. $\\pi$ e $e$) e la maggior parte delle funzioni di uso comune (e.g. $\\sin(x)$, $\\log(x)$, $e^x$, sqrt$(x)=\\sqrt(x)$, ...). Per vedere la lista completa di funzioni implementate nella libreria `math`, consultare la [documentazione della libreria](https://docs.python.org/3/library/math.html).\n",
    "\n",
    "**ESEMPIO:** plot della funzione $f(x)=a\\,\\sin(x)$, per $a=0.5,1,3$, nel dominio $[0,2 \\pi]$."
   ]
  },
  {
   "cell_type": "code",
   "execution_count": null,
   "metadata": {},
   "outputs": [],
   "source": [
    "# Per prima cosa importo la funzione sin(x) e la costante pi (pi-greco)\n",
    "from math import sin, pi, tan\n",
    "print(pi)"
   ]
  },
  {
   "cell_type": "code",
   "execution_count": null,
   "metadata": {},
   "outputs": [],
   "source": [
    "# Poi scrivo i comandi per ottenere i grafici voluti\n",
    "D = linspace(-4*pi, 4*pi, 1000)\n",
    "plot(D, [sin(x) for x in D], label=\"y=tan(x)\")\n",
    "plot(D, [sin(0.5*x) for x in D], label=\"y=tan(x)\")\n",
    "xlabel(\"x\")\n",
    "ylabel(\"y=f(x)=a sin(x)\")\n",
    "show()"
   ]
  },
  {
   "cell_type": "markdown",
   "metadata": {},
   "source": [
    "**ESERCIZIO 3.1:** Rappresentare il grafico della funzione esponenziale $a^x$, nell'intervallo $[-4,4]$, utilizzando i seguenti valori di $a$: 1.2, 1.4, 2 (sovrapporre i grafici nella stessa figura). Nota: si dovrebbe ottenere un grafico simile a quello di Figura 3.19(a) mostrata sopra."
   ]
  },
  {
   "cell_type": "code",
   "execution_count": null,
   "metadata": {},
   "outputs": [],
   "source": [
    "# DA COMPLETARE"
   ]
  },
  {
   "cell_type": "markdown",
   "metadata": {},
   "source": [
    "**ESERCIZIO 3.2:** Rappresentare il grafico della funzione esponenziale $a^x$, nell'intervallo $[-4,4]$, utilizzando i seguenti valori di $a$: 0.8, 0.7, 0.5 (sovrapporre i grafici nella stessa figura). Nota: si dovrebbe ottenere un grafico simile a quello di Figura 3.19(b) del Giaquinta-Modica."
   ]
  },
  {
   "cell_type": "code",
   "execution_count": null,
   "metadata": {},
   "outputs": [],
   "source": [
    "# DA COMPLETARE\n",
    "help(print)"
   ]
  },
  {
   "cell_type": "markdown",
   "metadata": {},
   "source": [
    "**ESERCIZIO 3.3:** (*esercizio difficile*) Rappresentare il grafico della funzione tangente nell'intervallo $[-4 \\pi, 4 \\pi]$."
   ]
  },
  {
   "cell_type": "code",
   "execution_count": null,
   "metadata": {},
   "outputs": [],
   "source": []
  },
  {
   "cell_type": "markdown",
   "metadata": {},
   "source": [
    "**ESERCIZIO 3.4:** Rappresentare il grafico della funzione $\\sin(\\frac{a}{x})$, nell'intervallo $[-2 \\pi, 2 \\pi]$, per $a \\in {1,2,3,4}$."
   ]
  },
  {
   "cell_type": "code",
   "execution_count": null,
   "metadata": {},
   "outputs": [],
   "source": [
    "# DA COMPLETARE"
   ]
  }
 ],
 "metadata": {
  "@webio": {
   "lastCommId": null,
   "lastKernelId": null
  },
  "kernelspec": {
   "display_name": "env_grb",
   "language": "python",
   "name": "python3"
  },
  "language_info": {
   "codemirror_mode": {
    "name": "ipython",
    "version": 3
   },
   "file_extension": ".py",
   "mimetype": "text/x-python",
   "name": "python",
   "nbconvert_exporter": "python",
   "pygments_lexer": "ipython3",
   "version": "3.12.6"
  }
 },
 "nbformat": 4,
 "nbformat_minor": 2
}
