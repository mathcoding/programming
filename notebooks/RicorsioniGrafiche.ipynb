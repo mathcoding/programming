{
 "cells": [
  {
   "cell_type": "markdown",
   "metadata": {},
   "source": [
    "# Ricorsioni Grafiche nel mondo di Escher\n",
    "\n",
    "In questo notebook vediamo come con un linguaggio di programmazione molto semplice possiamo **programmare** delle funzioni ricorsive che trasformano immagini semplici in immagini articolate. L'obiettivo finale di questo notebook è di permettere allo studente di capire come scrivere un programma che produca un'immagine simile al [woodcut di Escher](https://www.wikiart.org/en/m-c-escher/square-limit), chiamato **Square Limit**:\n",
    "\n",
    "![Escher's Fish](./images/fishEscher.jpg)\n",
    "\n",
    "**NOTA:** Per altre opere, si veda la pagina di [M.C. Escher](https://en.wikipedia.org/wiki/M._C._Escher)\n",
    "\n",
    "### Linguaggio di Programmazione: MicroPython\n",
    "Useremo un linguaggio di Programmazione che contiene solo gli elementi seguenti:\n",
    "\n",
    "1. L'assegnamento di valori a variabili.\n",
    "2. La definizione di funzioni semplici e ricorsive.\n",
    "3. La composizione di funzioni.\n",
    "4. Espressioni condizionali\n",
    "\n",
    "Vedremo come questi elementi di base possono essere usati per manipolare un dato **primitivo** di natura grafica."
   ]
  },
  {
   "cell_type": "code",
   "execution_count": null,
   "metadata": {},
   "outputs": [],
   "source": [
    "# Per prima cosa, con il comando seguente, importiamo \n",
    "# le funzioni del nostro micro-linguaggio dalla libreria \"escherFish\":\n",
    "\n",
    "from escherFish import *"
   ]
  },
  {
   "cell_type": "code",
   "execution_count": null,
   "metadata": {},
   "outputs": [],
   "source": [
    "who"
   ]
  },
  {
   "cell_type": "markdown",
   "metadata": {},
   "source": [
    "### Dato primitivo: TILE\n",
    "Se guardiamo il *woodcut* di Escher precedente, risulta chiaro come questo sia ottenuto dalla ripetizione di uno stesso **elemento base** (ovvero, un pesce stilizzato), che è stato opportunamente orientato, ridimensionato, e colorato.\n",
    "\n",
    "Per poter cercar di riprodurre quel quadro \"*programmando*\", abbiamo bisogno di definire un tipo di dato fondamentale, un elemento base, che viene chiamato **TILE**. Un *tile* rappresenta un disegno unico racchiuso in un quadrato di lato unitario. Mostriamo nel seguito, come a partire da un singolo *tile*, attraverso la composizione di una sequenza di funzioni, possiamo ottenere dei disegni più complessi.\n",
    "\n",
    "Iniziamo con un tile asimmetrico, in modo da mostrare più facilmente il tipo di trasformazioni che abbiamo a disposizione. \n",
    "\n",
    "Il primo tile che consideriamo è una rappresentazione grafica della lettera ``F``:"
   ]
  },
  {
   "cell_type": "code",
   "execution_count": null,
   "metadata": {},
   "outputs": [],
   "source": [
    "f"
   ]
  },
  {
   "cell_type": "markdown",
   "metadata": {},
   "source": [
    "Si osservi che la parte tratteggiata non è parte del tile, ma serve per evidenziare il quadrato entro cui la tile è contenuta. Inoltre si noti come il tipo di dato \"tile\" è stato definito in modo che venga visualizzato nel notebook in modo automatico, senza bisogno di richiamare una funzione particolare."
   ]
  },
  {
   "cell_type": "markdown",
   "metadata": {},
   "source": [
    "## Operazioni fondamentali\n",
    "Vediamo ora due semplici funzioni che possiamo applicare ad un tile: possiamo ruotare in senso antiorario di $90^o$ un tile, oppure possiamo \"ribaltare\" (in inglese, *flip*) un tile rispetto al suo asso verticale che passa per il centro del quadrato. Per esempio, possiamo applicare al tile ``f`` le due funzioni:"
   ]
  },
  {
   "cell_type": "code",
   "execution_count": null,
   "metadata": {},
   "outputs": [],
   "source": [
    "rot(f)"
   ]
  },
  {
   "cell_type": "code",
   "execution_count": null,
   "metadata": {},
   "outputs": [],
   "source": [
    "f"
   ]
  },
  {
   "cell_type": "code",
   "execution_count": null,
   "metadata": {},
   "outputs": [],
   "source": [
    "flip(f)"
   ]
  },
  {
   "cell_type": "markdown",
   "metadata": {},
   "source": [
    "Si noti come la sintassi usata sia la stessa che abbiamo visto per la definizione di funzioni numeriche, come `sqrt(x)`, `sin(x)`, `cos(x)` o `log(x)`. L'unica differenza è che stiamo usando un dato primitivo di tipo grafico invece che di tipo numerico. Ovvero stiamo utilizzando delle funzioni:\n",
    "\n",
    "$$f : X \\rightarrow Y$$\n",
    "\n",
    "dove $X$ e $Y$ sono l'insieme delle possibili tiles (mentre, ad esempio, per le funzioni trigonometriche $X$ e $Y$ sono sottoinsiemi di $\\mathbb{R}$).\n",
    "Come si possono *comporre* semplici operazioni aritmetiche (e.g., `sin(cos(x))`), anche per i tile, possiamo comporre più funzioni applicandone una dopo l'altra:"
   ]
  },
  {
   "cell_type": "code",
   "execution_count": null,
   "metadata": {},
   "outputs": [],
   "source": [
    "flip(rot(f))"
   ]
  },
  {
   "cell_type": "code",
   "execution_count": null,
   "metadata": {},
   "outputs": [],
   "source": [
    "rot(flip(f))"
   ]
  },
  {
   "cell_type": "markdown",
   "metadata": {},
   "source": [
    "Chiaramente, l'ordine con cui vengono applicate le diverse funzioni può portare a degli oggetti grafici (tiles) diversi."
   ]
  },
  {
   "cell_type": "markdown",
   "metadata": {},
   "source": [
    "## 1. Assegnamento di valori a variabili\n",
    "Abbiamo detto sopra che nel nostro linguaggio possiamo introdurre delle nuove **variabili** che \"memorizzano\" un valore (un tile) modificato da una funzione:"
   ]
  },
  {
   "cell_type": "code",
   "execution_count": null,
   "metadata": {},
   "outputs": [],
   "source": [
    "fr = rot(f)"
   ]
  },
  {
   "cell_type": "markdown",
   "metadata": {},
   "source": [
    "in questo caso, l'effetto dell'operatore di assegnamento (il simbolo dell'uguale `=`) è di assegnare alla variabile `fr` il valore di `f` ruotato di $90^o$ in senso antiorario. Se vogliamo vedere il valore della variabile `fr`, basta digitare:"
   ]
  },
  {
   "cell_type": "code",
   "execution_count": null,
   "metadata": {},
   "outputs": [],
   "source": [
    "rot(rot(rot(f)))"
   ]
  },
  {
   "cell_type": "markdown",
   "metadata": {},
   "source": [
    "**DOMANDA 1:** Non sarebbe comodo avere una funzione primitiva per ruotare un tile di $90^o$ in senso orario?"
   ]
  },
  {
   "cell_type": "code",
   "execution_count": null,
   "metadata": {},
   "outputs": [],
   "source": [
    "def rotOrario(x):\n",
    "    return rot(rot(rot(x)))"
   ]
  },
  {
   "cell_type": "code",
   "execution_count": null,
   "metadata": {},
   "outputs": [],
   "source": [
    "over(f, flip(f))"
   ]
  },
  {
   "cell_type": "markdown",
   "metadata": {},
   "source": [
    "Oltre a funzioni *unarie*, ovvero che prendono in input un solo argomento, possiamo definire delle operazioni fondamentali *binarie*, che prendono in input due tile e li combinano per produrre un nuovo tile:\n",
    "\n",
    "$$f : X \\times X \\rightarrow X$$\n",
    "\n",
    "Le operazioni fondamentali che introduciamo nel nostro linguaggio sono: ``above(x, y)``, ``beside(x, y)``, e ``over(x, y)``. Le prime due operazioni affiancano le due tile `x` e `y` una sopra l'altra, riscalandole in modo che il risultato sia ancora una tile contenuta nel quadrato unitario. La terza operazione, ``over``, sovrappone semplicemente le due tile."
   ]
  },
  {
   "cell_type": "code",
   "execution_count": null,
   "metadata": {},
   "outputs": [],
   "source": [
    "rot(above(flip(f), rot(f)))\n"
   ]
  },
  {
   "cell_type": "code",
   "execution_count": null,
   "metadata": {},
   "outputs": [],
   "source": [
    "-rot(f)"
   ]
  },
  {
   "cell_type": "code",
   "execution_count": null,
   "metadata": {
    "scrolled": true
   },
   "outputs": [],
   "source": [
    "over(f, flip(f))"
   ]
  },
  {
   "cell_type": "code",
   "execution_count": null,
   "metadata": {},
   "outputs": [],
   "source": [
    "over(flip(f), f)"
   ]
  },
  {
   "cell_type": "code",
   "execution_count": null,
   "metadata": {},
   "outputs": [],
   "source": [
    "type(f)"
   ]
  },
  {
   "cell_type": "code",
   "execution_count": null,
   "metadata": {},
   "outputs": [],
   "source": [
    "rot(f)"
   ]
  },
  {
   "cell_type": "markdown",
   "metadata": {},
   "source": [
    "## 2. Definizione di nuove funzioni\n",
    "In un linguaggio di programmazione è possibile  definire nuovi funzioni che a partire dall'insieme di funzioni \"primitive\" del linguaggio. In questa lezione siamo interessati a definire delle funzioni che operano sui tiles, prendendo in input uno o più tile, e restituiscono in output un nuovo tile. \n",
    "\n",
    "La **sintassi** del linguaggio per definire nuove funzioni è la seguente:\n",
    "\n",
    "```\n",
    "def <nomefunzione>(<lista di variabili di input>):\n",
    "    # insieme di operazioni e applicazioni di funzioni\n",
    "    return <valore finale>\n",
    "```\n",
    "\n",
    "Le parole chiave del linguaggio sono **`def`** e **`return`**; i due punti **`:`** e la tabulazione dopo la parola **`def`** è importante; `<nomefunzione>`, `<lista di variabili di input>`, e `<valore finale>` siete voi a doverli definire.\n",
    "\n",
    "Vediamo ora un esempio:"
   ]
  },
  {
   "cell_type": "code",
   "execution_count": null,
   "metadata": {},
   "outputs": [],
   "source": [
    "def quartet(p, q, r, s):\n",
    "    return above(beside(p,q), beside(r,s))"
   ]
  },
  {
   "cell_type": "markdown",
   "metadata": {},
   "source": [
    "Si noti come le parole chiave del linguaggio sono colorate in verde e il nome della funzione `quartet` (scelto da voi) sia in blue. La funzione prende in input quattro variabili, chiamate semplicemente `p`,`q`,`r`, e `s`, e produce in output un tile che risulta da mettere l'immagine ottenuta affiancando `p` e `q`, sopra l'immagine ottenuta affiancando `r` e `s` (notare che è quasi più semplice leggere il codice che non la sua descrizione testuale...).\n",
    "\n",
    "Una volta definita la funzione `quartet` può essere utilizzata nel modo seguente:"
   ]
  },
  {
   "cell_type": "code",
   "execution_count": null,
   "metadata": {},
   "outputs": [],
   "source": [
    "quartet(f, flip(f), flip(rot(rot(f))), rot(rot(f)))"
   ]
  },
  {
   "cell_type": "code",
   "execution_count": null,
   "metadata": {},
   "outputs": [],
   "source": [
    "qf = quartet(f, flip(f), flip(rot(rot(f))), rot(rot(f)))"
   ]
  },
  {
   "cell_type": "code",
   "execution_count": null,
   "metadata": {},
   "outputs": [],
   "source": [
    "def RicQuartet(f, n):\n",
    "    if n == 0:\n",
    "        return f\n",
    "    return RicQuartet(quartet(f, flip(f), flip(rot(rot(f))), rot(rot(f))), n-1)"
   ]
  },
  {
   "cell_type": "code",
   "execution_count": null,
   "metadata": {},
   "outputs": [],
   "source": [
    "RicQuartet(f, 3)"
   ]
  },
  {
   "cell_type": "code",
   "execution_count": null,
   "metadata": {},
   "outputs": [],
   "source": [
    "quartet(qf2, qf2, qf2, qf2)"
   ]
  },
  {
   "cell_type": "code",
   "execution_count": null,
   "metadata": {},
   "outputs": [],
   "source": [
    "blank"
   ]
  },
  {
   "cell_type": "code",
   "execution_count": null,
   "metadata": {},
   "outputs": [],
   "source": [
    "quartet(qf2, qf2, blank, qf)"
   ]
  },
  {
   "cell_type": "markdown",
   "metadata": {},
   "source": [
    "### Definizioni di funzioni ricorsive ed espressioni condizionali\n",
    "A questo punto possiamo introdurre delle funzioni **ricorsive** che costruiscono delle nuove tile che sono \"auto simili\". \n",
    "Un semplice esempio di funzione ricorsiva è la seguente"
   ]
  },
  {
   "cell_type": "code",
   "execution_count": null,
   "metadata": {},
   "outputs": [],
   "source": [
    "def F(a, b):\n",
    "    if b == 0:\n",
    "        return a\n",
    "    return F(a+1, b-1)"
   ]
  },
  {
   "cell_type": "markdown",
   "metadata": {},
   "source": [
    "Abbiamo introdotto la nuova parola chiave `if` che serve per valutare una **espressione condizionale**: in questo caso si controlla che il valore della variabile di input chiamata `b` sia uguale a zero; se l'espressione viene verificata, allora viene restituito il valore di `a`. Altrimenti viene restituito il valore ottenuto richiamando la stessa funzione, ma con due nuove variabili di input di valore `a+1` e `b-1`."
   ]
  },
  {
   "cell_type": "markdown",
   "metadata": {},
   "source": [
    "**DOMANDA 2:** Qual'è il risultato di questa \"chiamata\" alla funzione `F`?\n",
    "\n",
    "```F(13,9)```"
   ]
  },
  {
   "cell_type": "code",
   "execution_count": null,
   "metadata": {},
   "outputs": [],
   "source": [
    "# Provare a richiamare la funzione F(13,9)"
   ]
  },
  {
   "cell_type": "markdown",
   "metadata": {},
   "source": [
    "**IMPORTANTE**: La funzione `F(a, b)` è detta ricorsiva perché è definita in termini di se stessa."
   ]
  },
  {
   "cell_type": "markdown",
   "metadata": {},
   "source": [
    "## 3. Composizione di funzioni\n",
    "Vediamo cosa possiamo comporre funzioni ricorsive per le immagini.\n",
    "Consideriamo prima due nuovi tipi di tile: \n",
    "\n",
    "1. un triangolo \n",
    "2. un tile vuoto, chiamato `blank`\n",
    "\n"
   ]
  },
  {
   "cell_type": "code",
   "execution_count": null,
   "metadata": {},
   "outputs": [],
   "source": [
    "triangle"
   ]
  },
  {
   "cell_type": "code",
   "execution_count": null,
   "metadata": {},
   "outputs": [],
   "source": [
    "rot(triangle)"
   ]
  },
  {
   "cell_type": "code",
   "execution_count": null,
   "metadata": {},
   "outputs": [],
   "source": [
    "blank"
   ]
  },
  {
   "cell_type": "markdown",
   "metadata": {},
   "source": [
    "Usando questi due tile, possiamo costruire un nuovo \"quartetto\" chiamato `rectric`, in cui il quadrato in alto a sinistra è un triangolo ruotato, mentre gli altri tre sono dei tile definiti in modo uguale. Ovvero possiamo definire la funzione ricorsiva:"
   ]
  },
  {
   "cell_type": "code",
   "execution_count": null,
   "metadata": {},
   "outputs": [],
   "source": [
    "def rectric(n):\n",
    "    if n <= 0:\n",
    "        return blank\n",
    "    else:\n",
    "        return quartet(rot(triangle), rectric(n-1), rectric(n-1), rectric(n-1))"
   ]
  },
  {
   "cell_type": "markdown",
   "metadata": {},
   "source": [
    "Richiamando la funzione appena definita con diversi valori di $n$ dovremmo capire facilmente il processo di calcolo sviluppato da questa funzione ricorsiva.\n",
    "\n",
    "**DOMANDA 3**: Cosa vi aspettate come risultato della chiamata alla funzione `rectric(1)`?"
   ]
  },
  {
   "cell_type": "code",
   "execution_count": null,
   "metadata": {},
   "outputs": [],
   "source": [
    "rectric(1)"
   ]
  },
  {
   "cell_type": "code",
   "execution_count": null,
   "metadata": {},
   "outputs": [],
   "source": [
    "rectric(2)"
   ]
  },
  {
   "cell_type": "code",
   "execution_count": null,
   "metadata": {},
   "outputs": [],
   "source": [
    "rectric(3)"
   ]
  },
  {
   "cell_type": "code",
   "execution_count": null,
   "metadata": {},
   "outputs": [],
   "source": [
    "rectric(5)"
   ]
  },
  {
   "cell_type": "markdown",
   "metadata": {},
   "source": [
    "### Altre trasformazioni di base\n",
    "Cosa potremmo fare se invece di un \"quartetto\" volessimo ottenere la combinazione di nove tile in una griglia 3 per 3? L'operazione ``beside`` che abbiamo introdotto prima, partiziona lo spazio verticale in due parti uguali. Quindi non possiamo usarla per definire una griglia 3 per 3 senza prima aggiungere la possibilità di definire quanto spazio lasciare per il primo tile e quanto per il secondo.\n",
    "\n",
    "In pratica, vogliamo poter passare come argomento alla funzione `beside` la frazione di spazio occupata dal primo tile e la frazione usata dal secondo:"
   ]
  },
  {
   "cell_type": "code",
   "execution_count": null,
   "metadata": {},
   "outputs": [],
   "source": [
    "beside(flip(f), f, 2,3)"
   ]
  },
  {
   "cell_type": "markdown",
   "metadata": {},
   "source": [
    "In pratica, abbiamo introdotto la funzione `beside(x, y, a, b)`, che prende in input quattro parametri. I due nuovi parametri `a` e `b` servono per stabilire quanto spazio lasciare al primo tile a quanto al secondo.\n",
    "\n",
    "Nella chiamata precedente, il primo tile ha occupato i 2/5 dello spazio orizzontale disponibile (ovvero $\\frac{a}{a+b}$), mentre la seconda tile ha occupato i 3/5 (ovvero $\\frac{a}{a+b}$). \n",
    "\n",
    "In modo analogo, anche la funzione ``above`` può prendere quattro parametri: `above(x, y, a, b)`, in cui i parametri `a` e `b` hanno lo stesso significato della funzione precedente.\n",
    "\n",
    "Usando queste definizioni, a questo punto possiamo definire la funzione ``nonet``:"
   ]
  },
  {
   "cell_type": "code",
   "execution_count": null,
   "metadata": {},
   "outputs": [],
   "source": [
    "def nonet(p, q, r, s, t, u, v, w, x):\n",
    "    return above(\n",
    "            beside(p, beside(q,r), 1, 2),\n",
    "            above(\n",
    "                beside(s, beside(t, u), 1, 2),\n",
    "                beside(v, beside(w, x), 1, 2)\n",
    "            ),\n",
    "            1, 2)"
   ]
  },
  {
   "cell_type": "code",
   "execution_count": null,
   "metadata": {},
   "outputs": [],
   "source": [
    "nonet(f,f,f,f,blank,f,f,f,f)"
   ]
  },
  {
   "cell_type": "markdown",
   "metadata": {},
   "source": [
    "# Decomposizione del *woodcut* di Escher\n",
    "Veniamo ora al quadro da cui siamo partiti in questo notebook.\n",
    "\n",
    "Il tile fondamentale del quadro di Escher è il seguente \"pesce\":"
   ]
  },
  {
   "cell_type": "code",
   "execution_count": null,
   "metadata": {},
   "outputs": [],
   "source": [
    "fish"
   ]
  },
  {
   "cell_type": "markdown",
   "metadata": {},
   "source": [
    "Anche se non è completamente contenuto in un quadrato unitario, fu scelto da Escher in quanto è una forma in grado di \"combaciare\" con una sua stessa rotazione:"
   ]
  },
  {
   "cell_type": "code",
   "execution_count": null,
   "metadata": {},
   "outputs": [],
   "source": [
    "over(fish, rot(rot(fish)))"
   ]
  },
  {
   "cell_type": "markdown",
   "metadata": {},
   "source": [
    "Questa immagine ha anche altre proprietà \"*magiche*\". Prima però, aggiungiamo un'altra operazione di base al nostro linguaggio grafico: definiamo una trasformazione, chiamata ``rot45()`` che ruota un tile di $45^o$ in senso antiorario e la ridimensiona di una fattore $\\sqrt{2}$. Vediamo cosa esegue questa trasformazione usando un triangolo:"
   ]
  },
  {
   "cell_type": "code",
   "execution_count": null,
   "metadata": {},
   "outputs": [],
   "source": [
    "rot45(fish)"
   ]
  },
  {
   "cell_type": "code",
   "execution_count": null,
   "metadata": {},
   "outputs": [],
   "source": [
    "triangle"
   ]
  },
  {
   "cell_type": "markdown",
   "metadata": {},
   "source": [
    "Il pesce è cosi \"*magico*\" perché se prendiamo questa nuova trasformazione e la tile che produce, possiamo comporre diverse operazioni per ottenere le tile seguenti:"
   ]
  },
  {
   "cell_type": "code",
   "execution_count": null,
   "metadata": {},
   "outputs": [],
   "source": [
    "smallfish = flip(rot45(fish))"
   ]
  },
  {
   "cell_type": "code",
   "execution_count": null,
   "metadata": {},
   "outputs": [],
   "source": [
    "smallfish"
   ]
  },
  {
   "cell_type": "code",
   "execution_count": null,
   "metadata": {},
   "outputs": [],
   "source": [
    "over(rotOrario(smallfish), over(rot(smallfish), over(smallfish, rot(rot(smallfish)))))"
   ]
  },
  {
   "cell_type": "code",
   "execution_count": null,
   "metadata": {},
   "outputs": [],
   "source": [
    "t = over(fish, over(smallfish, rot(rot(rot(smallfish)))))\n",
    "t"
   ]
  },
  {
   "cell_type": "code",
   "execution_count": null,
   "metadata": {},
   "outputs": [],
   "source": [
    "u = over(over(over(smallfish, rot(smallfish)), rot(rot(smallfish))), rot(rot(rot(smallfish))))\n",
    "u"
   ]
  },
  {
   "cell_type": "markdown",
   "metadata": {},
   "source": [
    "Si osservi che le due tile ``t`` e ``u`` appena definite solo i blocchi base del quadro:\n",
    "\n",
    "![Escher's Fish](fishEscher.jpg)"
   ]
  },
  {
   "cell_type": "code",
   "execution_count": null,
   "metadata": {},
   "outputs": [],
   "source": [
    "u"
   ]
  },
  {
   "cell_type": "code",
   "execution_count": null,
   "metadata": {},
   "outputs": [],
   "source": [
    "t"
   ]
  },
  {
   "cell_type": "markdown",
   "metadata": {},
   "source": [
    "Questi due blocchi base vengono utilizzati per definire due funzioni ricorsive:"
   ]
  },
  {
   "cell_type": "code",
   "execution_count": null,
   "metadata": {},
   "outputs": [],
   "source": [
    "def side(n):\n",
    "    if n == 0: \n",
    "        return blank\n",
    "    else: \n",
    "        return quartet(side(n-1), side(n-1), rot(t), t)"
   ]
  },
  {
   "cell_type": "code",
   "execution_count": null,
   "metadata": {},
   "outputs": [],
   "source": [
    "side(2)"
   ]
  },
  {
   "cell_type": "code",
   "execution_count": null,
   "metadata": {},
   "outputs": [],
   "source": [
    "def corner(n):\n",
    "    if n == 0:\n",
    "        return blank\n",
    "    else:\n",
    "        return quartet(corner(n-1), side(n-1), rot(side(n-1)), u)"
   ]
  },
  {
   "cell_type": "markdown",
   "metadata": {},
   "source": [
    "Vediamo ora cosa fanno in pratica queste due funzioni."
   ]
  },
  {
   "cell_type": "code",
   "execution_count": null,
   "metadata": {},
   "outputs": [],
   "source": [
    "side(1)"
   ]
  },
  {
   "cell_type": "code",
   "execution_count": null,
   "metadata": {},
   "outputs": [],
   "source": [
    "side(2)"
   ]
  },
  {
   "cell_type": "code",
   "execution_count": null,
   "metadata": {},
   "outputs": [],
   "source": [
    "side(5)"
   ]
  },
  {
   "cell_type": "code",
   "execution_count": null,
   "metadata": {},
   "outputs": [],
   "source": [
    "corner(1)"
   ]
  },
  {
   "cell_type": "code",
   "execution_count": null,
   "metadata": {},
   "outputs": [],
   "source": [
    "corner(2)"
   ]
  },
  {
   "cell_type": "code",
   "execution_count": null,
   "metadata": {},
   "outputs": [],
   "source": [
    "corner(3)"
   ]
  },
  {
   "cell_type": "markdown",
   "metadata": {},
   "source": [
    "A questo punto abbiamo tutti gli elementi per arrivare a definire un'immagine grafica di un certo effetto, componendo tutte le varie operazioni introdotte:"
   ]
  },
  {
   "cell_type": "code",
   "execution_count": null,
   "metadata": {},
   "outputs": [],
   "source": [
    "def squarelimit(n):\n",
    "    return nonet(\n",
    "        corner(n), \n",
    "        side(n), \n",
    "        rot(rot(rot(corner(n)))), \n",
    "        rot(side(n)), \n",
    "        u, \n",
    "        rot(rot(rot(side(n)))),\n",
    "        rot(corner(n)), \n",
    "        rot(rot(side(n))), \n",
    "        rot(rot(corner(n)))\n",
    "    )"
   ]
  },
  {
   "cell_type": "code",
   "execution_count": null,
   "metadata": {},
   "outputs": [],
   "source": [
    "setSize(7)"
   ]
  },
  {
   "cell_type": "code",
   "execution_count": null,
   "metadata": {},
   "outputs": [],
   "source": [
    "squarelimit(1)"
   ]
  },
  {
   "cell_type": "code",
   "execution_count": null,
   "metadata": {},
   "outputs": [],
   "source": [
    "squarelimit(2)"
   ]
  },
  {
   "cell_type": "code",
   "execution_count": null,
   "metadata": {},
   "outputs": [],
   "source": [
    "squarelimit(4)"
   ]
  },
  {
   "cell_type": "markdown",
   "metadata": {},
   "source": [
    "   ## Approfondimenti\n",
    "  Gli studenti interessati, possono approfondire gli argomenti introdotti in questa lezione, leggendo un articolo di [Functional Geometry](https://eprints.soton.ac.uk/257577/1/funcgeo2.pdf) e provare ad individuare connessioni con argomenti affrontati in altri corsi."
   ]
  }
 ],
 "metadata": {
  "@webio": {
   "lastCommId": null,
   "lastKernelId": null
  },
  "kernelspec": {
   "display_name": "base",
   "language": "python",
   "name": "python3"
  },
  "language_info": {
   "codemirror_mode": {
    "name": "ipython",
    "version": 3
   },
   "file_extension": ".py",
   "mimetype": "text/x-python",
   "name": "python",
   "nbconvert_exporter": "python",
   "pygments_lexer": "ipython3",
   "version": "3.9.16"
  }
 },
 "nbformat": 4,
 "nbformat_minor": 2
}
