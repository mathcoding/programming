{
 "cells": [
  {
   "cell_type": "markdown",
   "metadata": {},
   "source": [
    "# Esercitazione 1: Espressioni aritmetiche\n",
    "\n",
    "### Esercizio 1.1\n",
    "Usando la sintassi vista a lezione per la definizione di nuove procedure, scrivere una funzione $f:\\mathbb{R} \\rightarrow \\mathbb{R}$ che prende in input un numero $r$ e calcola il perimetro di una circonferenza di raggio $r$, ovvero che calcola $f(r)=2 \\pi r$. \n",
    "\n",
    "```\n",
    "def <NomeProcedura>(<lista di parametri formali>):\n",
    "    <corpo della procedura>\n",
    "    return <valore>\n",
    "```     \n",
    "\n",
    "Stampare poi a video, il perimetro per i seguenti valori del raggio: $r=\\{13, 19, 23\\}$. \n",
    "\n",
    "In un secondo momento, memorizzare i valori dei tre perimetri in tre variabili diverse e stampare a video i tre valori corrispondenti."
   ]
  },
  {
   "cell_type": "code",
   "execution_count": null,
   "metadata": {},
   "outputs": [],
   "source": [
    "# Svolgere qui la soluzione dell'esercizio 1.1\n",
    "#\n",
    "# def .."
   ]
  },
  {
   "cell_type": "markdown",
   "metadata": {},
   "source": [
    "### Esercizio 1.2\n",
    "Scrivere una funzione $f : \\mathbb{R} \\times \\mathbb{R} \\times \\mathbb{R} \\rightarrow \\mathbb{R}$ che prende in input tre numeri e che calcola la somma dei quadrati dei due numeri più grandi. Decidete voi che nome dare alla funzione e ai tre parametri formali di input."
   ]
  },
  {
   "cell_type": "code",
   "execution_count": null,
   "metadata": {},
   "outputs": [],
   "source": [
    "# Svolgere qui la soluzione dell'esercizio 1.2\n",
    "#\n",
    "# def .."
   ]
  },
  {
   "cell_type": "markdown",
   "metadata": {},
   "source": [
    "### Esercizio 1.3\n",
    "Scrivere una procedura ricorsiva chiamata `Tab(x)` che prende in input un numero naturale `x` e\n",
    "stampa a video la tabellina del numero corrispondente. \n",
    "\n",
    "Per esempio, applicando il valore 7 alla funzione `Tab(x)`, la procedura stampa a video (un numero per ogni riga):\n",
    "\n",
    "```\n",
    "7 \n",
    "14 \n",
    "21 \n",
    ".. \n",
    "70\n",
    "```"
   ]
  },
  {
   "cell_type": "code",
   "execution_count": null,
   "metadata": {},
   "outputs": [],
   "source": [
    "# Svolgere qui la soluzione dell'esercizio 1.3\n",
    "#\n"
   ]
  },
  {
   "cell_type": "markdown",
   "metadata": {},
   "source": [
    "### Esercizio 1.4\n",
    "Si considerino le due procedure seguenti contenute:\n",
    "\n",
    "```     \n",
    "def Inc(x):\n",
    "\treturn x+1\n",
    "\n",
    "def Dec(x):\n",
    "\treturn x-1\n",
    "```     \n",
    "\n",
    "Si implementi una funzione $f : \\mathbb{Z} \\times \\mathbb{Z} \\rightarrow \\mathbb{Z}$, chiamata `Somma`, che dati due numeri `x` e `y` ne calcola la somma `z = x + y`, utilizzando soltanto le chiamate ricorsive, le espressioni condizionali e le due funzioni `Inc(x)` e `Dec(x)`."
   ]
  },
  {
   "cell_type": "code",
   "execution_count": null,
   "metadata": {},
   "outputs": [],
   "source": [
    "# Svolgere qui la soluzione dell'esercizio 1.4\n",
    "#\n",
    "# def .."
   ]
  },
  {
   "cell_type": "markdown",
   "metadata": {},
   "source": [
    "### Esercizio 1.5\n",
    "Utilizzando la funzione `Somma(x, y)` definita al punto precedente, definire una funzione `Prodotto(x,y)` che calcola (e restituisce in output) il prodotto $x y$ di due numeri interi positivi."
   ]
  },
  {
   "cell_type": "code",
   "execution_count": null,
   "metadata": {},
   "outputs": [],
   "source": [
    "# Svolgere qui la soluzione dell'esercizio 1.5\n",
    "#\n",
    "# def .."
   ]
  }
 ],
 "metadata": {
  "kernelspec": {
   "display_name": "Python 3 (ipykernel)",
   "language": "python",
   "name": "python3"
  },
  "language_info": {
   "codemirror_mode": {
    "name": "ipython",
    "version": 3
   },
   "file_extension": ".py",
   "mimetype": "text/x-python",
   "name": "python",
   "nbconvert_exporter": "python",
   "pygments_lexer": "ipython3",
   "version": "3.9.12"
  }
 },
 "nbformat": 4,
 "nbformat_minor": 2
}
