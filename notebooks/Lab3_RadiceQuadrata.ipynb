{
 "cells": [
  {
   "cell_type": "markdown",
   "metadata": {},
   "source": [
    "# 2. Programmare Funzioni"
   ]
  },
  {
   "cell_type": "markdown",
   "metadata": {},
   "source": [
    "## 2.1 Calcolo della radice quadrata di un numero\n",
    "Le procedure che abbiamo introdotto sino ad ora sono essenzialmente delle **funzioni matematiche** che specificano un valore di *output* che viene calcolato a partire da uno o più parametri di *input*. A differenze delle funzioni definite in matematica \"*teorica*\", le procedure definite al calcolatore devono essere anche **efficienti**, ovvero devono terminare la loro esecuzione in tempo breve. Proviamo a vedere un semplice esempio pratico di cosa vuol dire avere una procedura efficiente.\n",
    "\n",
    "Si consideri la definizione matematica seguente:\n",
    "\n",
    "$$\\sqrt{x} = y \\quad \\text{ se e solo se }\\quad y \\geq 0 \\text{ e } y^2 = x$$\n",
    "\n",
    "Queste definizione è senz'altro corretta da un punto di vista matematico. Potremmo usare questa definizione per controllare se un dato numero $y$, esso sia la radice quadrata di un altro numero $x$. Tuttavia, questa definizione non descrive una procedura per calcolare la radice quadrata di $x$.\n",
    "\n",
    "Per poter calcolare la radice quadrata di un numero abbiamo bisogno di un **Algoritmo** che viene *implementato* con una o più procedure di supporto.\n",
    "\n",
    "In questa sezione, usiamo l'esempio del calcolo della radice quadrata per mostrare tre metodi fondamentali per risolvere dei problemi:\n",
    "\n",
    "1. Ricerca di una soluzione per **Enumerazione Esaustiva** (ovvero per semplice *forza bruta*).\n",
    "2. Ricerca di una soluzione usando un **Metodo di Bisezione**: lo spazio di ricerca viene ripetutamente ristretto, sfruttando delle semplici assunzioni di ordinamento sullo spazio di ricerca.\n",
    "3. Ricerca di una soluzione con un **metodo dedicato** (ovvero il *medoto di Newton*) che sfrutta la struttura del problema che vogliamo risolvere per ottenere un algoritmo efficiente.\n",
    "\n",
    "Prima di procedere, vediamo qualche una definzione di *Algoritmo* su un normale dizionario: \n",
    "\n",
    "* [Cambridge](https://dictionary.cambridge.org/dictionary/english/algorithm#google_vignette)\n",
    "* [Oxford](https://www.oed.com/dictionary/algorithm_n?tl=true)\n",
    "* [Oxford Learner](oxfordlearnersdictionaries.com/definition/english/algorithm)"
   ]
  },
  {
   "cell_type": "markdown",
   "metadata": {},
   "source": [
    "### 2.1.1 Enumerazione Esaustiva\n",
    "Se ci limitiamo a considerare i numeri interi, potremmo utilizzare la definizione precedente per trovare la radice quadrata di un numero intero positivo attraverso una **enumerazione esaustiva**: per trovare la radice quadrata di $x$, possiamo provare tutti i numeri da $x$ a 1, e verificare ogni volta se il numero \"tentativo\" sia il quadrato dell'altro. \n",
    "\n",
    "**ESERCIZIO 2.1**: Scrivere una procedura (funzione) che prende in input un numero intero maggiore o uguale a 1, e prova tutti i numeri da $x$ a 1. Se trova la radice quadrata esatta la restituisce, altrimenti restituisce `NaN`."
   ]
  },
  {
   "cell_type": "code",
   "execution_count": null,
   "metadata": {},
   "outputs": [],
   "source": [
    "# Svolgere per enumerazione esaustiva\n",
    "\n",
    "# def ... COMPLETA"
   ]
  },
  {
   "cell_type": "code",
   "execution_count": null,
   "metadata": {},
   "outputs": [],
   "source": [
    "type('nan')"
   ]
  },
  {
   "cell_type": "code",
   "execution_count": null,
   "metadata": {},
   "outputs": [],
   "source": [
    "type(float('nan'))"
   ]
  },
  {
   "cell_type": "code",
   "execution_count": null,
   "metadata": {},
   "outputs": [],
   "source": [
    "def Sqrt(x):\n",
    "    return x"
   ]
  },
  {
   "cell_type": "code",
   "execution_count": null,
   "metadata": {},
   "outputs": [],
   "source": [
    "a = Sqrt(143)"
   ]
  },
  {
   "cell_type": "code",
   "execution_count": null,
   "metadata": {},
   "outputs": [],
   "source": [
    "print(a)"
   ]
  },
  {
   "cell_type": "markdown",
   "metadata": {},
   "source": [
    "**DOMANDE:** \n",
    "1. Come fare per trovare la radice quadrata di un numero reale positivo? \n",
    "2. Cosa vuol dire che due numeri reali sono **uguali**?\n",
    "3. Come viene valutata l'espressione logica: $$\\frac{1}{10}+\\frac{1}{10}+\\frac{1}{10} = \\frac{3}{10}$$"
   ]
  },
  {
   "cell_type": "code",
   "execution_count": null,
   "metadata": {},
   "outputs": [],
   "source": [
    "1/10 + 1/10 + 1/10 == 3/10"
   ]
  },
  {
   "cell_type": "markdown",
   "metadata": {},
   "source": [
    "**ATTENZIONE**: Bisogna fare molta attenzione quando si **confrontano** i numeri reali al calcolatore.\n",
    "\n",
    "Rivediamo quindi leggermente la definizione di radice quadrata, introducendo il concetto di **tolleranza numerica**. In pratica, cerchiamo un numero reale positivo tale che\n",
    "\n",
    "$$\\sqrt{x} \\simeq y \\quad \\text{ tale che } \\quad |y^2 - x| < \\epsilon,  \\quad y \\geq 0, \\epsilon>0 $$\n",
    "\n",
    "dove $\\epsilon$ è una costante molto piccola, per esempio $\\epsilon=10^{-7}$."
   ]
  },
  {
   "cell_type": "markdown",
   "metadata": {},
   "source": [
    "**DOMANDA:** Quante operazioni aritmetiche e logiche dobbiamo eseguire prima di ottenere un risultato?"
   ]
  },
  {
   "cell_type": "markdown",
   "metadata": {},
   "source": [
    "### 2.1.2 Ricerca per bisezione\n",
    "Potremmo cercare di migliorare la procedura di enumerazione esaustiva assumendo che i numeri che dobbiamo controllare siano ordinati in ordine crescente (o decrescente). In questo modo, potremmo evitare di controllare tutti i numeri, uno alla volta, e potremmo cercare di fare dei \"salti\" sfruttando la proprietà che i numeri sono ordinati.\n",
    "\n",
    "**ESERCIZIO 2.2**: Scrivere una procedura che, per trovare la radice quadrata di un numero, ogni volta divide l'intervallo di ricerca in due parti uguali, e continua ad esplorare solo la parte in cui effettivamente si può trovare la radice cercata."
   ]
  },
  {
   "cell_type": "code",
   "execution_count": 13,
   "metadata": {},
   "outputs": [],
   "source": [
    "def SqrtBisezione(x, tol=1e-07):\n",
    "    # Test su x non negativo\n",
    "\n",
    "    return 0.0"
   ]
  },
  {
   "cell_type": "code",
   "execution_count": null,
   "metadata": {},
   "outputs": [],
   "source": [
    "SqrtBisezione(2.0, 0.001)"
   ]
  },
  {
   "cell_type": "markdown",
   "metadata": {},
   "source": [
    "### 2.1.3 Il metodo di Newton\n",
    "Il metodo numerico più usato per calcolare la radice quadrata è il metodo di approssimazioni successive introdotto da Newton. Il metodo consiste nel trovare la soluzione attraverso aggiustamenti successivi di una soluzione tentativo: se abbiamo un valore $y$ che rappresenta il valore tentativo della radice quadrata di un altro numero $x$  possiamo ottenere una approssimazione più accurata calcolando la media tra $y$ e $x/y$. \n",
    "\n",
    "Il metodo di Newtnon consiste quindi di partire da un $y_0>0$ e ad ogni iterazione di calcolare:\n",
    "\n",
    "$$y_{i+1} = \\frac{y_i + \\frac{x}{y_i}}{2}$$\n",
    "\n",
    "**ESEMPIO:** Ricerca della radice quadrata di 2.\n",
    "\n",
    "| Valore Tentativo $y$ | Quoziente $x/y$ | Media tra $y$ e $x/y$ |\n",
    "|    :--:   |    :--:    |    :--:    |\n",
    "|  1  |  2/1  | (1+2)/2=1.5 | \n",
    "|  1.5  |  2/1.5=1.3333  | (1.3333+1.5)/2=1.4167 |\n",
    "|  1.4167  |  2/1.4167=1.4118  | (1.4118 + 1.4167)/2=1.4142 |\n",
    "| 1.4142 | ... | ... |\n",
    "\n",
    "**ESERCIZIO 2.3**: Scrivere una o più procedure per trovare la radice quadrata di un numero, utilizzando il metodo di Newton scritto sopra."
   ]
  },
  {
   "cell_type": "code",
   "execution_count": 14,
   "metadata": {},
   "outputs": [],
   "source": [
    "def Newton(x, eps=1e-07):\n",
    "    return 0.0"
   ]
  },
  {
   "cell_type": "code",
   "execution_count": null,
   "metadata": {},
   "outputs": [],
   "source": [
    "Newton(2.0, 0.001)"
   ]
  },
  {
   "cell_type": "code",
   "execution_count": null,
   "metadata": {},
   "outputs": [],
   "source": [
    "print(Newton('fra', 0.001))"
   ]
  },
  {
   "cell_type": "code",
   "execution_count": null,
   "metadata": {},
   "outputs": [],
   "source": [
    "Newton('aaaa')"
   ]
  },
  {
   "cell_type": "code",
   "execution_count": null,
   "metadata": {},
   "outputs": [],
   "source": [
    "a = 'nan'"
   ]
  },
  {
   "cell_type": "code",
   "execution_count": null,
   "metadata": {},
   "outputs": [],
   "source": [
    "type(a)"
   ]
  },
  {
   "cell_type": "markdown",
   "metadata": {},
   "source": [
    "**DOMANDA:** è possibile trovare un criterio di arresto alternativo, che sia espresso in funzione dell'errore commesso nel calcolo della radice quadrata? (Ovviamente senza conoscere il valore esatto della radice quadrata...)"
   ]
  },
  {
   "cell_type": "markdown",
   "metadata": {},
   "source": [
    "### 2.1.4 Errore di Approssimazione con il metodo di Newton\n",
    "Studiamo ora come stimare l'errore del metodo di Newton, senza conoscere il valore esatto di $\\sqrt{x}$. Chiamiamo $E_i$ l'errore di approssimazione commesso al passo $i$-esimo:\n",
    "\n",
    "$$E_i = y_i - \\sqrt{x}$$\n",
    "\n",
    "da cui possiamo anche ricavare\n",
    "\n",
    "$$y_i = \\sqrt{x} + E_i$$"
   ]
  },
  {
   "cell_type": "markdown",
   "metadata": {},
   "source": [
    "L'errore che avremo alla prossima iterazione, sarà pari a\n",
    "\n",
    "$$E_{i+1} = y_{i+1} - \\sqrt{x} = \\frac{y_i + \\frac{x}{y_i}}{2} - \\sqrt{x} = \\frac{y_i^2 - 2 y_i \\sqrt{x_i} +x}{2 y_i} = \\frac{(y_i - \\sqrt{x})^2}{2 y_i}= \\frac{E_i^2}{2 y_i}$$\n",
    "\n",
    "Facendo un po' di conti a partire dall'espressione precedente, si arriva a far vedere che \n",
    "\n",
    "$$E_{i+1} = \\frac{E_i^2}{2 y_i} \\geq 0$$\n",
    "\n",
    "In pratica, dopo il primo tentativo $y_0 > 0$, tutti gli errori successivi saranno sempre positivi, quindi l'errore ad ogni iterazione diventa sempre più piccolo, in quanto\n",
    "\n",
    "$$E_i = y_i - \\sqrt{x} < y_i \\quad \\text{ e quindi } 0 \\leq \\frac{E_i}{y_i} <1$$\n",
    "\n",
    "e inoltre\n",
    "\n",
    "$$E_{i+1} = \\frac{E_i^2}{2 y_i} = \\frac{E_i}{y_i} \\times \\frac{E_i}{2} < \\frac{E_i}{2}$$"
   ]
  },
  {
   "cell_type": "markdown",
   "metadata": {},
   "source": [
    "Riassumendo, abbiamo mostrato che l'errore diventa sempre più piccolo in quanto\n",
    "\n",
    "$$0 \\leq E_{i+1} < \\frac{E_i}{2} < E_i.$$\n",
    "\n",
    "Vediamo ora come possiamo usare le espressioni precedenti per ottenere un criterio di arresto usando una stima sull'errore. Dalle relazioni precedenti abbiamo che\n",
    "\n",
    "$$0 \\leq y_{i+1} - \\sqrt{x} < y_{i} - \\sqrt{x}$$\n",
    "\n",
    "da cui \n",
    "\n",
    "$$\\sqrt{x} \\leq y_{i+1} < y_{i}$$"
   ]
  },
  {
   "cell_type": "markdown",
   "metadata": {},
   "source": [
    "Se riprendiamo la definzione di errore ad una data iterazione $i$, abbiamo che \n",
    "\n",
    "$$E_i = y_i - \\sqrt{x}= y_i - y_{i+1} + y_{i+1} -\\sqrt{x} = (y_i - y_{i+1}) + E_{i+1} < (y_i - y_{i+1}) + \\frac{E_{i}}{2}$$\n",
    "\n",
    "ovvero\n",
    "\n",
    "$$0 \\leq \\frac{E_i}{2} < y_i - y_{i+1}.$$\n",
    "\n",
    "In pratica, se si vuole calcolare la radice quadrata di un numero reale positivo con un margine di errore minore di $\\epsilon > 0$, basterà verificare la condizione:\n",
    "\n",
    "$$y_i - y_{i+1} < \\epsilon.$$"
   ]
  },
  {
   "cell_type": "code",
   "execution_count": null,
   "metadata": {},
   "outputs": [],
   "source": [
    "# TODO: Aggiungi codice con il nuovo criterio di arresto"
   ]
  },
  {
   "cell_type": "markdown",
   "metadata": {},
   "source": [
    "### 2.1.5 Confronto tra le tre funzioni trovate\n",
    "Possiamo provare a fare un piccolo confronto tra le tre funzioni trovate in termini di efficienza, andando a contare, per esempio, quante volte è stata chiamata la funzione ricorsiva. Per poterlo fare, si deve aggiungere un parametro formale che viene incrementato di uno ogni volta che si effettua una chiamata ricorsiva. Tale valore può essere stampato a video prima di restituire il valore finale.\n",
    "\n",
    "**ESERCIZIO 2.4**: Modificare le procedure precedenti per contare il numero di chiamate ricorsive con le tre procedure precedenti: \n",
    "\n",
    "1. Enumerazione Esaustiva\n",
    "2. Metodo di Bisezione\n",
    "3. Metodo di Newton"
   ]
  },
  {
   "cell_type": "code",
   "execution_count": null,
   "metadata": {},
   "outputs": [],
   "source": [
    "# DA COMPLETARE"
   ]
  },
  {
   "cell_type": "markdown",
   "metadata": {},
   "source": [
    "**TODO: Aggiungi delle tabelle e dei plot con le analisi computazionali**"
   ]
  },
  {
   "cell_type": "code",
   "execution_count": null,
   "metadata": {},
   "outputs": [],
   "source": []
  }
 ],
 "metadata": {
  "@webio": {
   "lastCommId": null,
   "lastKernelId": null
  },
  "kernelspec": {
   "display_name": "base",
   "language": "python",
   "name": "python3"
  },
  "language_info": {
   "codemirror_mode": {
    "name": "ipython",
    "version": 3
   },
   "file_extension": ".py",
   "mimetype": "text/x-python",
   "name": "python",
   "nbconvert_exporter": "python",
   "pygments_lexer": "ipython3",
   "version": "3.12.9"
  }
 },
 "nbformat": 4,
 "nbformat_minor": 2
}
