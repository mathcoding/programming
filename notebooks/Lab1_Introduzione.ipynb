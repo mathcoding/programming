{
 "cells": [
  {
   "cell_type": "markdown",
   "metadata": {},
   "source": [
    "# 1. Elementi di Programmazione\n",
    "\n",
    "Storicamente, il primo linguaggio di programmazione è stato inventato per istruire una macchina ad eseguire dei calcoli in modo automatico. Ad oggi, viene riconosciuto che un linguaggio di programmazione serve prima di tutto per organizzare le nostre idee su come quei calcoli devono essere svolti da una macchina. Per questo, nella scelta di un linguaggio di programmazione, si deve tener presente quali siano gli strumenti che vengono offerti dal linguaggio per formare, a partire da poche idee semplici, delle idee più complesse.\n",
    "\n",
    "Ogni linguaggio di programmazione dovrebbe avere almeno tre elementi per poter permettere di raggiungere l'obiettivo di comporre poche idee semplici in idee più complesse. I tre elementi sono:\n",
    "\n",
    "1. Le **espressioni primitive** che rappresentano le entità più semplici del linguaggio.\n",
    "\n",
    "2. I metodi per **comporre** gli elementi primitivi in elementi derivati.\n",
    "\n",
    "3. I metodi per **astrarre** concetti primitivi in modo che gli elementi derivati possano essere utilizzati a loro volta come elementi primitivi di entità ancora più complesse.\n",
    "\n",
    "In un linguaggio di programmazione, le espressioni primitive che possiamo usare sono le *espressioni logiche* e le *espressioni aritmetiche*. Inoltre, si possono usare due tipi di elementi primitive: le **PROCEDURE** e i **DATI**. In modo informale, possiamo definire i **dati** come gli oggetti che vorremmo manipolare, e le **procedure** come la descrizione di regole per manipolare questi dati. Una procedura *implementa* un algoritmo, per trasformare un dato di input in un particolare output."
   ]
  },
  {
   "cell_type": "markdown",
   "metadata": {},
   "source": [
    "## 1.1 Dati e procedure numeriche\n",
    "Iniziamo a illustrare sotto qualche semplice espressione valutata dall'interprete di Python: se digitiamo alla tastiera una **espressione**, l'interprete risponde **valutando** tale espressione. Per esempio se digitiamo la sequenza di caratteri 345 e poi premiamo la combinazione di tasti `shift + enter`, l'interprete valuta l'espressione che abbiamo appena scritto:"
   ]
  },
  {
   "cell_type": "code",
   "execution_count": null,
   "metadata": {},
   "outputs": [],
   "source": [
    "345"
   ]
  },
  {
   "cell_type": "code",
   "execution_count": null,
   "metadata": {},
   "outputs": [],
   "source": [
    "type(345)"
   ]
  },
  {
   "cell_type": "markdown",
   "metadata": {},
   "source": [
    "In questo esempio, la sequenza di caratteri *3,4,5* è stato convertita nel numero intero 345, come si può verificare utilizzando la funzione primitiva `type(x)`, che stampa a video il tipo di dato del valore di input `x`. Se avessimo racchiuso la sequenza di caratteri *3,4,5*, l'interprete di Python avrebbe convertito la sequenza in una **stringa** di caratteri, ovvero un dato primitivo di tipo `str`."
   ]
  },
  {
   "cell_type": "code",
   "execution_count": null,
   "metadata": {},
   "outputs": [],
   "source": [
    "\"345\""
   ]
  },
  {
   "cell_type": "code",
   "execution_count": null,
   "metadata": {},
   "outputs": [],
   "source": [
    "type('345')"
   ]
  },
  {
   "cell_type": "markdown",
   "metadata": {},
   "source": [
    "Utilizzando le procedure primitive che corrispondono agli operatori aritmetici fondamentali, possiamo comporre delle semplici espressioni aritmetiche che permettono di manipolare dei dati primitivi di tipo numerico (alla pari di qualsiasi calcolatrice). Per esempio:"
   ]
  },
  {
   "cell_type": "code",
   "execution_count": null,
   "metadata": {},
   "outputs": [],
   "source": [
    "339 + 6"
   ]
  },
  {
   "cell_type": "code",
   "execution_count": null,
   "metadata": {},
   "outputs": [],
   "source": [
    "345 - 6"
   ]
  },
  {
   "cell_type": "code",
   "execution_count": null,
   "metadata": {},
   "outputs": [],
   "source": [
    "2.7 / 12.1"
   ]
  },
  {
   "cell_type": "code",
   "execution_count": null,
   "metadata": {},
   "outputs": [],
   "source": [
    "type(345 - 12/6)"
   ]
  },
  {
   "cell_type": "code",
   "execution_count": null,
   "metadata": {},
   "outputs": [],
   "source": [
    "345 % 7"
   ]
  },
  {
   "cell_type": "code",
   "execution_count": null,
   "metadata": {},
   "outputs": [],
   "source": [
    "3//2\n"
   ]
  },
  {
   "cell_type": "code",
   "execution_count": null,
   "metadata": {},
   "outputs": [],
   "source": [
    "7 + (2*49)\n",
    "49 * 2 + 7"
   ]
  },
  {
   "cell_type": "markdown",
   "metadata": {},
   "source": [
    "In queste semplici espressioni numeriche, è stata implicitamente usata una notazione **postfix**, in cui l'operatore appare dopo il primo operando.\n",
    "\n",
    "Importando e utilizzando la libreria di Python `operator` è possibile esprimere le stesse espressioni in notazione **prefix**: prima si specifica l'*operatore* (ovvero la procedura di calcolo corrispondente che si vuole richiamare), e poi si specificano gli *operandi*."
   ]
  },
  {
   "cell_type": "code",
   "execution_count": null,
   "metadata": {},
   "outputs": [],
   "source": [
    "# Importa tutte le procedure (funzioni) definite nel modulo \"operator\"\n",
    "from operator import add, sub, mul, truediv, floordiv, mod"
   ]
  },
  {
   "cell_type": "code",
   "execution_count": null,
   "metadata": {},
   "outputs": [],
   "source": [
    "sub(345, truediv(12, 6))"
   ]
  },
  {
   "cell_type": "markdown",
   "metadata": {},
   "source": [
    "Si consiglia di leggere la **documentazione** della libreria `operator` sul sito di [python](https://docs.python.org/3.6/library/operator.html). Le funzioni principali che useremo in questo notebook sono:\n",
    "\n",
    "* `add(a,b)` corrisponde ad `a+b`\n",
    "* `sub(a,b)` corrisponde ad `a-b`\n",
    "* `mul(a,b)` corrisponde ad `a*b`\n",
    "* `truediv(a,b)` corrisponde ad `a/b`\n",
    "* `floordiv(a,b)` corrisponde ad `a//b` (divisione tra numeri interi, senza resto)\n",
    "* `mod(a,b)` corrisponde ad `a%b` (resto della divisione tra numeri interi\n",
    "\n",
    "Per esempio:"
   ]
  },
  {
   "cell_type": "code",
   "execution_count": null,
   "metadata": {},
   "outputs": [],
   "source": [
    "add(339, 6)"
   ]
  },
  {
   "cell_type": "markdown",
   "metadata": {},
   "source": [
    "Uno dei vantaggi della notazione **prefix** è che rende sempre chiaro qual'è l'operatore (ovvero quale procedura) che deve essere utilizzato prima, applicandola a quali dati: `add` è il nome dell'operatore, mentre tra parentesi sono specificati gli operandi, i due dati numerici a cui deve essere applicata l'operazione.\n",
    "\n",
    "Per esempio, si consideri l'espressione seguente:\n",
    "\n",
    "`345 % 11 // 3`\n",
    "\n",
    "Quale operazione si devono svolgere prima? Perché?\n",
    "\n",
    "Qual'è il risultato corretto, 0 oppure 1?:\n",
    "\n",
    "* 345 % 11 // 3 = 0 ?\n",
    "* 345 % 11 // 3 = 1 ?"
   ]
  },
  {
   "cell_type": "code",
   "execution_count": null,
   "metadata": {},
   "outputs": [],
   "source": [
    "345 % 11 // 3"
   ]
  },
  {
   "cell_type": "code",
   "execution_count": null,
   "metadata": {},
   "outputs": [],
   "source": [
    "mod(345, floordiv(11,3))"
   ]
  },
  {
   "cell_type": "code",
   "execution_count": null,
   "metadata": {},
   "outputs": [],
   "source": [
    "floordiv(mod(345, 11), 3)"
   ]
  },
  {
   "cell_type": "markdown",
   "metadata": {},
   "source": [
    "Si consideri l'espressione seguente:"
   ]
  },
  {
   "cell_type": "code",
   "execution_count": null,
   "metadata": {},
   "outputs": [],
   "source": [
    "mul(add(2,3), \n",
    "    (sub(add(2,2), add(3,2))))"
   ]
  },
  {
   "cell_type": "markdown",
   "metadata": {},
   "source": [
    "Si noti come questa espressione risulta essere più chiara se riscritta come:\n",
    "\n",
    "```\n",
    "mul(\n",
    "    add(2, 3),\n",
    "    sub(\n",
    "        add(2, 2),\n",
    "        add(3, 2)\n",
    "    )\n",
    ")\n",
    "```"
   ]
  },
  {
   "cell_type": "markdown",
   "metadata": {},
   "source": [
    "## 1.2 La valutazione di espressioni composte: Read-Evaluate-Print-Loop\n",
    "Per elaborare delle espressioni composte, l'interprete di un linguaggio di programmazione lavora in un ciclo chiamato \"*leggi-valuta-stampa*\" (in inglese **REPL**, acronimo di **Read-Evaluate-Print-Loop**): legge le espressioni composte e le riduce in espressioni primitive, valuta le espressione con un ordine prestabilito, e alla fine stampa a video il risultato finale. L'ordine in cui vengono valutate le espressioni dipende dal linguaggio di programmazione usato.\n",
    "\n",
    "Proviamo ad analizzare come l'interprete del linguaggio valuta operazioni composte come quelle viste prima. La valutazione di operazioni composte avviene attraverso la procedura seguente:\n",
    "\n",
    "Per valutare un'espressione composta:\n",
    "\n",
    "```\n",
    "1. Valuta l'espressione composta (ad esempio, operatore e operandi)\n",
    "\n",
    "2. Valuta le sottoespressioni dell'espressione composta (gli operandi)\n",
    "\n",
    "2. Applica la procedura indicata dalla sottoespressione più a sinistra (l'operatore), agli argomenti che sono i valori che risultano dall'avere valutato la sottoespressione (gli operandi).\n",
    "```    \n",
    "Si noti come questa procedura per valutare un'operazione composta, per prima cosa deve applicare il processo di valutazione ad ogni elemento dell'espressione composta. Quindi, la regola di valutazione di un'espressione è intrinsecamente **RICORSIVA**, ovvero include come uno dei suoi passi la chiamata a se stessa."
   ]
  },
  {
   "cell_type": "markdown",
   "metadata": {},
   "source": [
    "**ESERCIZIO 1.1**: disegnare il *recursion tree* (albero di ricorsione) dell'espressione seguente:"
   ]
  },
  {
   "cell_type": "code",
   "execution_count": null,
   "metadata": {},
   "outputs": [],
   "source": [
    "mul(add(2, mul(4, 6)), mul(3, 5))"
   ]
  },
  {
   "cell_type": "markdown",
   "metadata": {},
   "source": [
    "<img src=\"images/RecursionTree.PNG\" alt=\"Recursion Tree\" style=\"width: 400px;\"/>"
   ]
  },
  {
   "cell_type": "markdown",
   "metadata": {},
   "source": [
    "## 1.3 Assegnazione di nomi ad oggetti\n",
    "Un aspetto critico della programmazione è l'assegnazione dei nomi agli oggetti computazionali.\n",
    "Si dice che un **nome** identifica una **variabile** il cui **valore** è l'oggetto a cui viene associato. Per esempio:"
   ]
  },
  {
   "cell_type": "code",
   "execution_count": null,
   "metadata": {},
   "outputs": [],
   "source": [
    "giusy = 13"
   ]
  },
  {
   "cell_type": "markdown",
   "metadata": {},
   "source": [
    "In questo caso abbiamo una **variabile**, per la quale abbiamo scelto il **nome** `giusy`, il cui **valore** è il numero 13. A questo punto possiamo usare la variabile `giusy` come un oggetto di tipo numerico:"
   ]
  },
  {
   "cell_type": "code",
   "execution_count": null,
   "metadata": {},
   "outputs": [],
   "source": [
    "3*giusy"
   ]
  },
  {
   "cell_type": "code",
   "execution_count": null,
   "metadata": {},
   "outputs": [],
   "source": [
    "add(giusy, add(giusy,giusy))"
   ]
  },
  {
   "cell_type": "markdown",
   "metadata": {},
   "source": [
    "Altri esempi sono:"
   ]
  },
  {
   "cell_type": "code",
   "execution_count": null,
   "metadata": {},
   "outputs": [],
   "source": [
    "pi = 3.14159"
   ]
  },
  {
   "cell_type": "code",
   "execution_count": null,
   "metadata": {},
   "outputs": [],
   "source": [
    "raggio = 5"
   ]
  },
  {
   "cell_type": "code",
   "execution_count": null,
   "metadata": {},
   "outputs": [],
   "source": [
    "circonferenza = 2*pi*raggio"
   ]
  },
  {
   "cell_type": "markdown",
   "metadata": {},
   "source": [
    "In questi tre casi, il ciclo **REPL** si è concluso con un assegnamento, e quindi non è stato stampato nulla a video. Per stampare a video il valore della variabile `circonferenza` abbiamo due possibilità. La prima è semplicemente far valutare dall'interprete il nome della variabile:"
   ]
  },
  {
   "cell_type": "code",
   "execution_count": null,
   "metadata": {},
   "outputs": [],
   "source": [
    "circonferenza"
   ]
  },
  {
   "cell_type": "markdown",
   "metadata": {},
   "source": [
    "Il secondo è di utilizzare esplicitamente la procedure `print(x)`:"
   ]
  },
  {
   "cell_type": "code",
   "execution_count": null,
   "metadata": {},
   "outputs": [],
   "source": [
    "print(circonferenza)"
   ]
  },
  {
   "cell_type": "markdown",
   "metadata": {},
   "source": [
    "Cosa succede alla variabile `circonferenza` se ora cambiamo il valore della variabile `raggio`, come nell'esempio seguente?"
   ]
  },
  {
   "cell_type": "code",
   "execution_count": null,
   "metadata": {},
   "outputs": [],
   "source": [
    "raggio = 10"
   ]
  },
  {
   "cell_type": "code",
   "execution_count": null,
   "metadata": {},
   "outputs": [],
   "source": [
    "circonferenza"
   ]
  },
  {
   "cell_type": "markdown",
   "metadata": {},
   "source": [
    "Cosa è successo? Come mai non ha stampato a video il valore 62.8318?\n",
    "\n",
    "L'interprete del linguaggio, prima, ha letto e valutato l'espressione `2*pi*raggio`, e, dopo, ha assegnato il **valore** ottenuto dalla valutazione dell'**espressione** alla variabile di nome `circonferenza`.\n",
    "\n",
    "In questo contesto, l'operatore di assegnamento `=` rappresenta il più semplice meccanismo di astrazione, perché permette di assegnare un **nome** al risultato di operazioni più complesse, eseguite da una o più procedure. \n",
    "\n",
    "In pratica, qualsiasi programma viene definito partendo dalla costruzione, passo passo, di oggetti computazionali via via più complessi e più astratti.\n",
    "\n",
    "L'uso di un **interprete**, che in modo incrementale valuta le **espressioni** che li vengono passate in input, favorisce la definizione di tante piccole procedure, innestate l'una nell'altra.\n",
    "\n",
    "Dovrebbe essere chiaro a questo punto, che l'interprete deve mantenere una sorta di **MEMORIA GLOBALE** in cui tiene traccia di tutti gli assegnamenti di nomi a oggetti. Questa memoria viene chiamata il `global environment`. In Python, per visualizzare quali sono i nomi di variabili attualmente in memoria si usa il comando `who`:"
   ]
  },
  {
   "cell_type": "code",
   "execution_count": null,
   "metadata": {},
   "outputs": [],
   "source": [
    "who"
   ]
  },
  {
   "cell_type": "markdown",
   "metadata": {},
   "source": [
    "In un notebook di Python, per cancellare tutte le variabili del global environment si può riavviare il kernel utilizzando il menu' `Kernel->Restart`."
   ]
  },
  {
   "cell_type": "code",
   "execution_count": null,
   "metadata": {},
   "outputs": [],
   "source": [
    "who"
   ]
  },
  {
   "cell_type": "markdown",
   "metadata": {},
   "source": [
    "## 1.4 Definizione di nuove procedure composte\n",
    "Abbiamo identificato alcuni elementi che devono appartenere ad un linguaggio di programmazione:\n",
    "\n",
    "1. I numeri sono dei **dati primitivi**.\n",
    "2. Le operazioni aritmetiche delle **procedure primitive** (in gergo, vengono chiamate *builtin*).\n",
    "3. L'**annidamento di espressioni** composte offre un meccanismo per comporre delle operazioni.\n",
    "4. L'**assegnamento** di nomi di variabili a valori offre un livello di astrazione limitato.\n",
    "\n",
    "Abbiamo quindi bisogno di un modo per poter **definire nuove procedure**, in modo che una nuova operazione possa essere definita come composizione di operazioni più semplici.\n",
    "\n",
    "Consideriamo, per esempio, come possiamo definire una procedura che realizzi la funzione di elevamento al quadrato di un numero dato."
   ]
  },
  {
   "cell_type": "code",
   "execution_count": null,
   "metadata": {},
   "outputs": [],
   "source": [
    "quadrato = mul(3, 3)"
   ]
  },
  {
   "cell_type": "code",
   "execution_count": null,
   "metadata": {},
   "outputs": [],
   "source": [
    "quadrato"
   ]
  },
  {
   "cell_type": "code",
   "execution_count": null,
   "metadata": {},
   "outputs": [],
   "source": [
    "power = mul(x,x)\n",
    "print(power)"
   ]
  },
  {
   "cell_type": "markdown",
   "metadata": {},
   "source": [
    "**NOTA:** è molto importante imparare a leggere e capire i messaggi di errore dell'interprete."
   ]
  },
  {
   "cell_type": "code",
   "execution_count": null,
   "metadata": {},
   "outputs": [],
   "source": [
    "x = 7"
   ]
  },
  {
   "cell_type": "markdown",
   "metadata": {},
   "source": [
    "Con gli elementi del linguaggio visti sino ad ora non siamo in grado di definire l'elevamento al quadrato in un modo generico, più astratto.\n",
    "\n",
    "Per ottenere un livello di astrazione più alto abbiamo quindi bisogno di un meccanismo (una sintassi del linguaggio) che ci permetta di definire nuove procedure (funzioni). In Python, la sintassi è la seguente:\n",
    "\n",
    "```\n",
    "def <NomeProcedura>(<lista di parametri formali>):\n",
    "    <corpo della procedura>\n",
    "    return <valore>\n",
    "```\n",
    "\n",
    "Si noti come siano apparse le prime due *parole chiave riservate* del linguaggio: **def** e **return**. Inoltre, `<Nome>` è il nome che noi vogliamo associare alla procedura (funzione) che stiamo definendo, e la `<lista parametri formali>` (chiamati argomenti della procedura) sono le variabili che non appartengono direttamente al *working eniviroment* (ovvero alla MEMORIA GLOBALE dell'interprete), ma sono \"visibili\" solo internamente alla procedura in cui sono definite.\n",
    "\n",
    "Utilizzando questa nuova sintassi, possiamo scrivere la definizione di una procedura per l'elevamento al quadrato nel modo seguente:"
   ]
  },
  {
   "cell_type": "code",
   "execution_count": null,
   "metadata": {},
   "outputs": [],
   "source": [
    "def Quadrato(numero):\n",
    "    return mul(numero, numero)"
   ]
  },
  {
   "cell_type": "code",
   "execution_count": null,
   "metadata": {},
   "outputs": [],
   "source": [
    "Quadrato"
   ]
  },
  {
   "cell_type": "code",
   "execution_count": null,
   "metadata": {},
   "outputs": [],
   "source": [
    "who"
   ]
  },
  {
   "cell_type": "markdown",
   "metadata": {},
   "source": [
    "Per utilizzare la nuova procedura per calcolare il quadrato di un numero, dobbiamo \"richiamarla\" passandogli dei valori numerici come argomento:"
   ]
  },
  {
   "cell_type": "code",
   "execution_count": null,
   "metadata": {},
   "outputs": [],
   "source": [
    "Quadrato(12)"
   ]
  },
  {
   "cell_type": "code",
   "execution_count": null,
   "metadata": {},
   "outputs": [],
   "source": [
    "Quadrato(139)"
   ]
  },
  {
   "cell_type": "code",
   "execution_count": null,
   "metadata": {},
   "outputs": [],
   "source": [
    "Quadrato(mul(3,2))"
   ]
  },
  {
   "cell_type": "markdown",
   "metadata": {},
   "source": [
    "Nella definizione della sintassi per definire nuove procedure, non abbiamo posto nessuna condizione sulle procedure che possono essere richiamate. In pratica, possiamo definire nuove procedure in termini della procedura appena definita `Quadrato(x)`, definendo una nuova procedura chiamata `SommaDiQuadrati(x, y)`:"
   ]
  },
  {
   "cell_type": "code",
   "execution_count": null,
   "metadata": {},
   "outputs": [],
   "source": [
    "def SommaQuadrati(x, y):\n",
    "    return add(Quadrato(x), Quadrato(y))"
   ]
  },
  {
   "cell_type": "code",
   "execution_count": null,
   "metadata": {},
   "outputs": [],
   "source": [
    "SommaQuadrati(4,3)"
   ]
  },
  {
   "cell_type": "markdown",
   "metadata": {},
   "source": [
    "### Applicative Order vs. Normal Order Evaluations\n",
    "Ora che abbiamo introdotto le procedure composte, rivediamo in quale ordine è possibile valutare un'espressione composta. Consideriamo la procedura:\n",
    "\n",
    "```SommaQuadrati(add(3,2), mul(3,2))```\n",
    "\n",
    "Seguendo l'ordine di valutazione specificato sopra, prima valutiamo gli argomenti (gli operandi), valutando la somme $3+2=5$ e il prodotto $3*2=6$, e poi valutiamo la somma $5^2 + 6^2$. Questo ordine di valutazione in cui prima si valutano gli argomenti e poi si applica la procedura, si chiama *Applicative-order Evaluation*.\n",
    "\n",
    "```\n",
    "    SommaQuadrati( add(3,2), mul(3,2) )\n",
    "    SommaQuadrati( 5, 6 )\n",
    "    add( Quadrato(5), Quadrato(6) )\n",
    "    add(   mul(5,5) ,   mul(6,6)  )\n",
    "    add(     25     ,     36      )\n",
    "                    61    \n",
    "```\n",
    "\n",
    "In alternativa, si sarebbe potuto seguire un ordine diverso, in cui prima si applicano le procedure e solo dopo si valutano gli argomenti. Nell'esempio precedente, avremmo avuto l'ordine di valutazione seguente:\n",
    "\n",
    "```\n",
    "    SommaQuadrati( add(3,2), mul(3,2) )   \n",
    "    add(    Quadrato(add(3,2)),      Quadrato(mul(3,2))    )\n",
    "    add(  mul(add(3,2), add(3,2)), mul(mul(3,2), mul(3,2))  )\n",
    "    add(          mul(5, 5)      ,        mul(6, 6)        )\n",
    "    add(              25         ,            36           )\n",
    "                                61\n",
    "```\n",
    "Questo ordine di valutazione si chiama *Normal-order Evaluation*. Si noti che in questo caso, la somma $3+2$ e il prodotto $3*2$ sono eseguiti entrambi due volte. Tuttavia, in alcuni casi questo ordine di valutazione può essere vantaggioso (si veda l'esercizio 1.7)."
   ]
  },
  {
   "cell_type": "code",
   "execution_count": null,
   "metadata": {},
   "outputs": [],
   "source": [
    "SommaQuadrati(add(3,2), mul(3,2))"
   ]
  },
  {
   "cell_type": "markdown",
   "metadata": {},
   "source": [
    "**ESERCIZIO 1.2**: Si consideri la seguente espressione composta:"
   ]
  },
  {
   "cell_type": "code",
   "execution_count": null,
   "metadata": {},
   "outputs": [],
   "source": [
    "def F(a):\n",
    "    return SommaQuadrati(add(a, 1), mul(a, 2))"
   ]
  },
  {
   "cell_type": "code",
   "execution_count": null,
   "metadata": {},
   "outputs": [],
   "source": [
    "print(\"Il risultato di F(5):\", F(5))"
   ]
  },
  {
   "cell_type": "markdown",
   "metadata": {},
   "source": [
    "Come è stata valutata questa procedura?"
   ]
  },
  {
   "cell_type": "markdown",
   "metadata": {},
   "source": [
    "**OSSERVAZIONE**: con gli elementi del linguaggio sin qui introdotti, possiamo definire una funzione `ValoreAssoluto(x)`, ovvero: \n",
    "\n",
    "$|x| = x$ se $x \\geq 0$, e $|x|=-x$ se $x < 0$? "
   ]
  },
  {
   "cell_type": "markdown",
   "metadata": {},
   "source": [
    "**RISPOSTA**: No, il linguaggio non ancora è abbastanza *espressivo*. Abbiamo bisogno di aggiungere altri elementi al linguaggio di programmazione."
   ]
  }
 ],
 "metadata": {
  "@webio": {
   "lastCommId": null,
   "lastKernelId": null
  },
  "kernelspec": {
   "display_name": "base",
   "language": "python",
   "name": "python3"
  },
  "language_info": {
   "codemirror_mode": {
    "name": "ipython",
    "version": 3
   },
   "file_extension": ".py",
   "mimetype": "text/x-python",
   "name": "python",
   "nbconvert_exporter": "python",
   "pygments_lexer": "ipython3",
   "version": "3.12.9"
  }
 },
 "nbformat": 4,
 "nbformat_minor": 2
}
