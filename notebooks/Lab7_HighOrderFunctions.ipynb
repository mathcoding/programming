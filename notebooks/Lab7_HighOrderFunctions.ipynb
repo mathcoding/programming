{
 "cells": [
  {
   "cell_type": "markdown",
   "metadata": {},
   "source": [
    "## 2.3 High-Order Functions\n",
    "Abbiamo visto come le procedure e le funzioni siano in effetti delle **ASTRAZIONI** che ci permettono di descrivere delle operazioni composte da applicare a dei numeri che sono indipendenti dai particolari valori che quei numeri possono assumere. Per esempio, quando definiamo:"
   ]
  },
  {
   "cell_type": "code",
   "execution_count": null,
   "metadata": {},
   "outputs": [],
   "source": [
    "def Cubo(x):\n",
    "    return x**3   # equivalente a x*x*x"
   ]
  },
  {
   "cell_type": "markdown",
   "metadata": {},
   "source": [
    "non stiamo specificando il cubo di un numero particolare, ma stiamo specificando un metodo per trovare il cubo di un numero qualsiasi. \n",
    "\n",
    "Allo stesso modo, quando abbiamo visto la funzione `rot(tile)` che ruota un *tile* di $90^o$ in senso antiorario, non abbiamo definito una funzione che ruota una specifica immagine, ma una funzione che ruota qualsiasi immagine rappresentata in un tile.\n"
   ]
  },
  {
   "cell_type": "markdown",
   "metadata": {},
   "source": [
    "Un linguaggio di programmazione, per essere utile, deve fornire un metodo per definire astrazioni di questo tipo, ovvero operazioni composte da operazioni primitive del linguaggio, in modo da poter ragionare solo nei termini più astratti.\n",
    "\n",
    "Tuttavia, un linguaggio di programmazione non deve essere limitato a prendere come parametri di input solo dati numerici o immagini (tile), ma dovrebbe essere in grado di **avere come parametri delle procedure o delle funzioni**, ed eventualmente restituire delle procedure (o funzioni) invece che dei semplici dati primitivi.\n",
    "\n",
    "In questa sezione, introduciamo degli esempi in cui le procedure e le funzioni definite nel linguaggio possono essere usate come parametri di altre funzioni composte, oppure come valore di ritorno di una funzione."
   ]
  },
  {
   "cell_type": "markdown",
   "metadata": {},
   "source": [
    "### 2.3.1 Generalizzare le funzioni: Sommatoria semplice\n",
    "Consideriamo la funzione seguente:\n",
    "\n",
    "$$f(x, y) = \\left\\{ \\begin{array}{ll} \n",
    "0 & \\text{if } x > y \\\\  \n",
    "x + f(x+1, y) & \\text{if } x \\leq y \\end{array} \\right.$$\n"
   ]
  },
  {
   "cell_type": "markdown",
   "metadata": {},
   "source": [
    "Se proviamo ad applicare a questa funzione i valori $x=1$ e $y=4$, otteniamo il processo di calcolo ricorsivo seguente:\n",
    "\n",
    "$$\n",
    "\\begin{darray}{rcl}\n",
    "f(1,4) &=& 1 + f(2, 4) \\\\\n",
    "&=& 1 + \\left(2 + f(3, 4)\\right) \\\\\n",
    "&=& 1 + \\left(2 + \\left(3 + f(4, 4)\\right)\\right) \\\\\n",
    "&=& 1 + \\left(2 + \\left(3 + \\left(4 + f(5,4)\\right)\\right)\\right) \\\\\n",
    "&=& 1 + \\left(2 + \\left(3 + \\left(4 + 0\\right)\\right)\\right) \\\\\n",
    "&=& 1 + \\left(2 + \\left(3 + 4\\right)\\right) \\\\\n",
    "&=& 1 + \\left(2 + 7\\right) \\\\\n",
    "&=& 1 + 9 \\\\\n",
    "&=& 10\n",
    "\\end{darray}$$\n",
    "\n",
    "La funzione $f(x,y)$ definita sopra può essere implementata in Python direttamente come segue:"
   ]
  },
  {
   "cell_type": "code",
   "execution_count": null,
   "metadata": {},
   "outputs": [],
   "source": [
    "def SommaInteri(x, y):\n",
    "    # DA FARE\n",
    "    return 0"
   ]
  },
  {
   "cell_type": "code",
   "execution_count": null,
   "metadata": {},
   "outputs": [],
   "source": [
    "SommaInteri(1, 4)"
   ]
  },
  {
   "cell_type": "markdown",
   "metadata": {},
   "source": [
    "Per poter capire cosa effettivamente accade durante le chiamate ricorsive, ovvero durante il processo di calcolo della funzione `SommaInteri`, possiamo aggiungere alla funzione delle stampe a video che seguono il processo di calcolo, sia prima che dopo le varie chiamate ricorsive.\n",
    "\n",
    "Per avere delle stampe a video significative usiamo delle stringhe (sequenze di caratteri) definite nel modo seguente:\n",
    "\n",
    "```\n",
    "'messaggio di testo che mostra due numeri, a={} e b={}'.format(1/3, 4)\n",
    "```"
   ]
  },
  {
   "cell_type": "markdown",
   "metadata": {},
   "source": [
    "L'interprete del linguaggio Python legge la stringa tra le virgolette, e quando incontra una coppia di parantesi graffe, include i valori espressi come argomenti della procedura `format`. Nel caso precedente viene visualizzata la stringa:\n",
    "\n",
    "```\n",
    "'messaggio di testo che mostra due numeri, a=3 e b=4'\n",
    "```\n",
    "\n",
    "Una sintassi equivalente, ma più compatta introdotta di recente è le seguente:\n",
    "\n",
    "```\n",
    "f'messaggio di testo che mostra due numeri, a={1/3:0.2f} e b={4}'\n",
    "```\n",
    "\n",
    "\n",
    "Vediamolo in pratica:"
   ]
  },
  {
   "cell_type": "code",
   "execution_count": null,
   "metadata": {},
   "outputs": [],
   "source": [
    "'messaggio di testo che mostra due numeri, a={} e b={}'.format(1/3, 4)"
   ]
  },
  {
   "cell_type": "code",
   "execution_count": null,
   "metadata": {},
   "outputs": [],
   "source": [
    "f'messaggio di testo che mostra due numeri, a={1/3:0.2f} e b={4} {{}}'"
   ]
  },
  {
   "cell_type": "markdown",
   "metadata": {},
   "source": [
    "Possiamo utilizzare questa funzione per cercare di visualizzare le chiamate ricorsive delle funzione precedente, modificando leggermente la funzione stessa:"
   ]
  },
  {
   "cell_type": "code",
   "execution_count": null,
   "metadata": {},
   "outputs": [],
   "source": [
    "#def SommaInteri(x, y):\n",
    "# COMPLETARE"
   ]
  },
  {
   "cell_type": "code",
   "execution_count": null,
   "metadata": {},
   "outputs": [],
   "source": [
    "SommaInteri(1,4)"
   ]
  },
  {
   "cell_type": "code",
   "execution_count": null,
   "metadata": {},
   "outputs": [],
   "source": [
    "SommaInteri(5, 7)"
   ]
  },
  {
   "cell_type": "code",
   "execution_count": null,
   "metadata": {},
   "outputs": [],
   "source": [
    "SommaInteri(1, 10)"
   ]
  },
  {
   "cell_type": "markdown",
   "metadata": {},
   "source": [
    "Se guardiamo attentamente la funzione $f(x,y)$ definita sopra, dovremmo renderci conto che il vero calcolo che stiamo chiedendo di fare è:\n",
    "\n",
    "$$f(1,4) = 1 + \\left(2 + \\left(3 + 4\\right)\\right)$$\n",
    "\n",
    "che sfruttando la **proprietà associativa** dell'addizione possiamo riscrivere come\n",
    "\n",
    "$$f(1,4) = (((1 + 2) + 3) + 4)$$\n"
   ]
  },
  {
   "cell_type": "markdown",
   "metadata": {},
   "source": [
    "In pratica, possiamo osservare che ad ogni chiamata delle funzione ricorsiva, potremmo iniziare a fare direttamente la somma parziale degli addendi. La funzione $f(x, y)$, implementata in `SommaInteri`, può essere quindi ridefinita in termini di una nuova funzione $g(x,y,z)$ definita come segue:\n",
    "\n",
    "\n",
    "$$g(x, y, z) = \\left\\{ \\begin{array}{ll} \n",
    "z & \\text{if } x > y \\\\  \n",
    "g(x+1, y, x+z) & \\text{if } x \\leq y \\end{array} \\right.$$\n",
    "\n",
    "da cui definiamo la funzione $f(x,y)$ come segue\n",
    "\n",
    "$$f(x,y) := g(x, y, 0)$$\n",
    "\n",
    "Usando la sintassi di Python, possiamo quindi scrivere"
   ]
  },
  {
   "cell_type": "code",
   "execution_count": null,
   "metadata": {},
   "outputs": [],
   "source": [
    "def G(x, y, z):\n",
    "    # DA FARE\n",
    "    return 0\n",
    "\n",
    "def F(x,y):\n",
    "    # DA FARE\n",
    "    return 0"
   ]
  },
  {
   "cell_type": "code",
   "execution_count": null,
   "metadata": {},
   "outputs": [],
   "source": [
    "F(1, 4)"
   ]
  },
  {
   "cell_type": "code",
   "execution_count": null,
   "metadata": {},
   "outputs": [],
   "source": [
    "F(5, 7)"
   ]
  },
  {
   "cell_type": "code",
   "execution_count": null,
   "metadata": {},
   "outputs": [],
   "source": [
    "F(1, 10)"
   ]
  },
  {
   "cell_type": "markdown",
   "metadata": {},
   "source": [
    "Per poter visualizzare il processo di calcolo di questa nuova funzione, possiamo nuovamente aggiungere dei comandi di stampa a video, che non modificano i conti fatti, ma aiutano a capire l'ordine sequenziale con cui sono eseguiti."
   ]
  },
  {
   "cell_type": "code",
   "execution_count": null,
   "metadata": {},
   "outputs": [],
   "source": [
    "F(1, 4)"
   ]
  },
  {
   "cell_type": "code",
   "execution_count": null,
   "metadata": {},
   "outputs": [],
   "source": [
    "F(1, 10)"
   ]
  },
  {
   "cell_type": "markdown",
   "metadata": {},
   "source": [
    "**NOTA:** In questa caso, il risultato finale è già stato calcolato quando viene raggiunta la base delle ricorsione della funzione $g(x,y,z)$. Tutte le chiamate successive servono solo per restituire il valore finale, che in questo esempio è uguale a 55. Alcuni linguaggi di programmazione (e.g., Haskell e Lisp) sono in grado di ottimizzare l'esecuzione di funzioni di questo tipo, evitando tutte le chiamate successive al raggiungimento della base della ricorsione."
   ]
  },
  {
   "cell_type": "markdown",
   "metadata": {},
   "source": [
    "**SINTASSI PYTHON 1/2:** In Python, i parametri di una procedura possono essere specificati in maniera esplicita, senza usare l'ordine implicito nella definizione della funzione. Per esempio, le due chiamate seguenti sono equivalenti:"
   ]
  },
  {
   "cell_type": "code",
   "execution_count": null,
   "metadata": {},
   "outputs": [],
   "source": [
    "G(13, 17, 0)"
   ]
  },
  {
   "cell_type": "code",
   "execution_count": null,
   "metadata": {},
   "outputs": [],
   "source": [
    "9# In questo caso specifico quale valore assegnare a quale variabile\n",
    "G(z=0, x=13, y=17)  "
   ]
  },
  {
   "cell_type": "markdown",
   "metadata": {},
   "source": [
    "**SINTASSI PYTHON 2/2:** In Python, è possibile definire dei valori di default per i parametri formali di input delle procedure. Il valore di default viene usato quando la funzione viene applicata senza esplicitare il valore di quel parametro. Per esempio, se definiamo:"
   ]
  },
  {
   "cell_type": "code",
   "execution_count": null,
   "metadata": {},
   "outputs": [],
   "source": [
    "def Power(a, n=2):\n",
    "    return a**n"
   ]
  },
  {
   "cell_type": "code",
   "execution_count": null,
   "metadata": {},
   "outputs": [],
   "source": [
    "Power(n=3, a=13)"
   ]
  },
  {
   "cell_type": "markdown",
   "metadata": {},
   "source": [
    "Possiamo utilizzare la funzione `Power` nei modi seguenti (si noti che se il parametro formale $n$ non viene specificato, allora assume il valore di default pari a 2):"
   ]
  },
  {
   "cell_type": "code",
   "execution_count": null,
   "metadata": {},
   "outputs": [],
   "source": [
    "Power(2, 4)"
   ]
  },
  {
   "cell_type": "code",
   "execution_count": null,
   "metadata": {},
   "outputs": [],
   "source": [
    "Power(2)"
   ]
  },
  {
   "cell_type": "code",
   "execution_count": null,
   "metadata": {},
   "outputs": [],
   "source": [
    "Power(n=3, a=4)"
   ]
  },
  {
   "cell_type": "markdown",
   "metadata": {},
   "source": [
    "**OSSERVAZIONE:** Riguardare attentamente le chiamate alle procedure usate per eseguire il plot di funzioni (nel Capitolo 3.1), per capire come vengono usati i vari parametri, come ad esempio il parametro `label` della funzione `plot()`."
   ]
  },
  {
   "cell_type": "markdown",
   "metadata": {},
   "source": [
    "**ESERCIZIO:** Consideriamo ora la seguente funzione:\n",
    "\n",
    "$$f(x, y) = \\left\\{ \\begin{array}{ll} \n",
    "0 & \\text{if } x > y \\\\  \n",
    "x^3 + f(x+1, y) & \\text{if } x \\leq y \\end{array} \\right.$$\n",
    "\n",
    "che potrebbe essere implementata in Python direttamente nel modo seguente:"
   ]
  },
  {
   "cell_type": "code",
   "execution_count": null,
   "metadata": {},
   "outputs": [],
   "source": [
    "def F(x, y):\n",
    "    # DA FARE\n",
    "    return 0"
   ]
  },
  {
   "cell_type": "code",
   "execution_count": null,
   "metadata": {},
   "outputs": [],
   "source": [
    "F(1, 5)"
   ]
  },
  {
   "cell_type": "markdown",
   "metadata": {},
   "source": [
    "Si scriva questa nuova funzione $f(x,y)$ in termini di una nuova funzione $g(x,y,z)$ in cui vengono man mano accumulati i valori parziali da calcolare."
   ]
  },
  {
   "cell_type": "code",
   "execution_count": null,
   "metadata": {},
   "outputs": [],
   "source": [
    "# DA COMPLETARE, COMPITO PER CASA"
   ]
  },
  {
   "cell_type": "markdown",
   "metadata": {},
   "source": [
    "### 3.2.2 Sommatoria per il calcolo di $\\frac{\\pi}{8}$\n",
    "Si consideri la sommatoria seguente, che deriva da una osservazione famosa di [Leibniz](https://it.wikipedia.org/wiki/Formula_di_Leibniz_per_pi) per il calcolo di $\\pi$:\n",
    "\n",
    "$$\\frac{1}{1 \\cdot 3} + \\frac{1}{5 \\cdot 7} + \\frac{1}{9 \\cdot 11} + \\dots + \\frac{1}{i \\cdot (i+2)} + \\frac{1}{(i+4) \\cdot (i+6)} + \\dots\\approx \\frac{\\pi}{8}$$\n",
    "\n",
    "Facendo attenzione, si dovrebbe arrivare a riconoscere che questa sommatoria è simile alle due sommatorie precedenti, e, quindi, potremmo scrivere la funzione seguente, simile a quelle scritte prima (`SommaInteri` e `SommaCubi`):"
   ]
  },
  {
   "cell_type": "code",
   "execution_count": null,
   "metadata": {},
   "outputs": [],
   "source": [
    "def SommaPI(x, y):        \n",
    "    return 0\n",
    "    \n",
    "def PI(N):\n",
    "    return 0"
   ]
  },
  {
   "cell_type": "code",
   "execution_count": null,
   "metadata": {},
   "outputs": [],
   "source": [
    "PI(100)"
   ]
  },
  {
   "cell_type": "code",
   "execution_count": null,
   "metadata": {},
   "outputs": [],
   "source": [
    "PI(1000)"
   ]
  },
  {
   "cell_type": "code",
   "execution_count": null,
   "metadata": {},
   "outputs": [],
   "source": [
    "PI(10000)"
   ]
  },
  {
   "cell_type": "markdown",
   "metadata": {},
   "source": [
    "In alternativa, possiamo scrivere una funzione in Python che calcola questa sommatoria per approssimare $\\pi$ mettendo insieme le funzioni seguenti:"
   ]
  },
  {
   "cell_type": "code",
   "execution_count": null,
   "metadata": {},
   "outputs": [],
   "source": [
    "# 1. Singolo termine della sommatoria\n",
    "def Term(x):\n",
    "    return 1/(x*(x+2))"
   ]
  },
  {
   "cell_type": "markdown",
   "metadata": {},
   "source": [
    "Considerando che in ogni termine della sommatoria precedente il termine $i$ viene incrementato di 4 unità, potremmo scrivere la funzione:"
   ]
  },
  {
   "cell_type": "code",
   "execution_count": null,
   "metadata": {},
   "outputs": [],
   "source": [
    "# 2. Incremento del \"contatore\" della sommatoria\n",
    "def Next(x):\n",
    "    return x+4"
   ]
  },
  {
   "cell_type": "markdown",
   "metadata": {},
   "source": [
    "A questo punto, potremmo definire la funzione:"
   ]
  },
  {
   "cell_type": "code",
   "execution_count": null,
   "metadata": {},
   "outputs": [],
   "source": [
    "def Sigma(x, y):\n",
    "    if x > y:\n",
    "        return 0\n",
    "    return Term(x) + Sigma(Next(x), y)\n",
    "\n",
    "def Pi(N):\n",
    "    return 8*Sigma(1, N)\n"
   ]
  },
  {
   "cell_type": "code",
   "execution_count": null,
   "metadata": {},
   "outputs": [],
   "source": [
    "Pi(1000)"
   ]
  },
  {
   "cell_type": "code",
   "execution_count": null,
   "metadata": {},
   "outputs": [],
   "source": [
    "def Sigma(a, b, F, Next):\n",
    "    if a > b:\n",
    "        return 0\n",
    "    return F(a) + Sigma(Next(a), b, F, Next)"
   ]
  },
  {
   "cell_type": "markdown",
   "metadata": {},
   "source": [
    "### 3.2.3 Concetto generale di sommatoria\n",
    "Le funzioni definite nei tre esempi precedenti hanno tutte uno schema di calcolo comune. Sono per lo più identiche e si differenziano solo nel nome della procedura, la funzione $Term(x)$ che viene usata per calcolare il valore che viene sommato, e la funzione che definisce il prossimo valore di $Next(x)$ che deve essere usato (nei due esempi precedenti, abbiamo semplicemente sommato 1 a x).\n",
    "\n",
    "Potremmo quindi generare ognuna di queste tre funzioni, partendo dallo schema generale (*\"astratto\"*) seguente:\n",
    "\n",
    "```\n",
    "def <NomeProcedura>(x, y):\n",
    "    if x > y:\n",
    "        return 0\n",
    "    else:\n",
    "        return <Term>(x) + <NomeProcedura>(<Next>(x), y)\n",
    "```\n",
    "\n",
    "La presenza di uno schema comune alla tre procedure rende evidente come ci sia un'**astrazione** (un concetto astratto, uno schema di calcolo generale, ...) che aspetta solo di emergere. In pratica, i **matematici** hanno identificato questo schema tanti anni fa, identificando il concetto astratto di sommatoria di funzioni e hanno inventato la *notazione sigma* seguente:\n",
    "\n",
    "$$\n",
    "\\sum_{n=x, x+1, \\dots, y} f(n) = f(x) + \\left(\\sum_{n=x+1,\\dots,y} f(n) \\right) = f(x) + f(x+1) + \\left(\\sum_{n=x+2, \\dots, y} f(n)\\right) = f(x) + f(x+1) + \\dots + f(y)\n",
    "$$\n",
    "\n",
    "per esprimere in modo conciso questo concetto astratto. Se consideriamo che l'indice della sommatoria potrebbe essere incrementato in modo arbitrario, tramite la funzione $next(x)$, possiamo riscrivere la sommatoria come:\n",
    "\n",
    "$$\\sum_{n=x, next(x), next(next(x)), \\dots, y} f(n) = \\dots = f(x) + f(next(x)) + f(next(next(x+1))) + \\dots + f(y)$$"
   ]
  },
  {
   "cell_type": "markdown",
   "metadata": {},
   "source": [
    "In maniera analoga, come **programmatori**, vorremo avere un linguaggio che ci permetta di scrivere una procedura che rappresenti il concetto di sommatoria di funzioni, piuttosto che scrivere una procedura che calcoli solo una particolare operazione composta.\n",
    "\n",
    "Questo può essere scritto in maniera abbastanza diretta in Python, nel modo seguente:"
   ]
  },
  {
   "cell_type": "code",
   "execution_count": null,
   "metadata": {},
   "outputs": [],
   "source": [
    "# Da completare"
   ]
  },
  {
   "cell_type": "markdown",
   "metadata": {},
   "source": [
    "Si noti che in questo caso, $x$ e $y$ sono gli estremi dell'intervallo della sommatoria, mentre `Term` e `Next` sono due funzioni non ancora specificate: **i parametri formali possono anche essere delle FUNZIONI e non solo dei valori numerici!**\n",
    "\n",
    "In pratica, possiamo riscrivere le procedure degli esempi precedenti usando la funzione `Sigma` nel modo seguente. La prima funzione vista, ovvero `SommaInteri`, può essere definita come:"
   ]
  },
  {
   "cell_type": "code",
   "execution_count": null,
   "metadata": {},
   "outputs": [],
   "source": [
    "# Da completare\n",
    "\n",
    "print(SommaInteri(1, 4))"
   ]
  },
  {
   "cell_type": "markdown",
   "metadata": {},
   "source": [
    "Utilizzando la funzione `Cubo` al posto della funzione identità, possiamo definire anche la seconda sommatoria, ovvero la somma dei cubi, nel modo seguente:"
   ]
  },
  {
   "cell_type": "code",
   "execution_count": null,
   "metadata": {},
   "outputs": [],
   "source": [
    "# Da completare\n"
   ]
  },
  {
   "cell_type": "markdown",
   "metadata": {},
   "source": [
    "Infine, facendo attenzione, possiamo definire anche la terza procedura, quella per approssimare $\\pi$, utilizzando sempre la funzione **HIGH ORDER** `Sigma`:"
   ]
  },
  {
   "cell_type": "code",
   "execution_count": null,
   "metadata": {},
   "outputs": [],
   "source": [
    "# Da completare"
   ]
  },
  {
   "cell_type": "code",
   "execution_count": null,
   "metadata": {},
   "outputs": [],
   "source": [
    "print(PI(10000))"
   ]
  },
  {
   "cell_type": "markdown",
   "metadata": {},
   "source": [
    "### 3.2.4 Approssimazione numerica di integrali definiti\n",
    "Ora che abbiamo la funzione `Sigma`, possiamo usarla per formulare anche altri concetti ancora più astratti. \n",
    "\n",
    "Per esempio, l'integrale definito di una funzione $f$ tra i limiti $a$ e $b$, può essere approssimato numericamente usando la formula:\n",
    "\n",
    "$$\n",
    "\\begin{darray}{rcl}\n",
    "    \\int_a^b f(x)\\, dx &\\approx& \\Sigma_{n=a+\\frac{dx}{2},a+\\frac{dx}{2}+dx,a+\\frac{dx}{2}+2dx,\\dots,b} \\left( dx \\cdot f(n) \\right) \\\\\n",
    "    &\\approx& dx \\cdot \\Sigma_{n=a+\\frac{dx}{2},a+\\frac{dx}{2}+dx,a+\\frac{dx}{2}+2dx,\\dots,b} f(n) \\\\\n",
    "    &=& dx \\cdot \\left(f(a+\\frac{dx}{2}) + f(a+\\frac{dx}{2}+dx) + f(a+ \\frac{dx}{2} + 2dx ) + ...\\right)\n",
    "\\end{darray}\n",
    "$$\n",
    "\n",
    "per valori piccoli di $dx$.\n",
    "\n",
    "**ESERCIZIO IN AULA:** Come usare la funzione high order `Sigma(x, y, F, Next)` definita prima per approssimare l'integrale definito di una generica funzione `F(x)` nell'intervallo $[a..b]$?\n",
    "\n",
    "Quanto vale l'integrale definito di $f(x)=x^3$ in $[0\\dots1]$? E quello di $\\sin(x)$?"
   ]
  },
  {
   "cell_type": "code",
   "execution_count": null,
   "metadata": {},
   "outputs": [],
   "source": [
    "from math import sin, cos, pi\n",
    "\n",
    "def Integrale(F, a, b, dx=0.1):\n",
    "    return 0"
   ]
  },
  {
   "cell_type": "code",
   "execution_count": null,
   "metadata": {},
   "outputs": [],
   "source": [
    "def Cubo(x):\n",
    "    return x**3"
   ]
  },
  {
   "cell_type": "code",
   "execution_count": null,
   "metadata": {},
   "outputs": [],
   "source": [
    "Integrale(Cubo, 0, 1, dx=0.01)"
   ]
  },
  {
   "cell_type": "markdown",
   "metadata": {},
   "source": [
    "(Si tenga presente che il valore esatto dell'integrale è $\\frac{1}{4}$)."
   ]
  },
  {
   "cell_type": "code",
   "execution_count": null,
   "metadata": {},
   "outputs": [],
   "source": [
    "from math import pi, sin, cos, log, tan"
   ]
  },
  {
   "cell_type": "code",
   "execution_count": null,
   "metadata": {},
   "outputs": [],
   "source": [
    "tan(pi/2)"
   ]
  },
  {
   "cell_type": "code",
   "execution_count": null,
   "metadata": {},
   "outputs": [],
   "source": [
    "Integrale(tan, 0, pi)"
   ]
  },
  {
   "cell_type": "code",
   "execution_count": null,
   "metadata": {},
   "outputs": [],
   "source": [
    "Integrale(cos, -pi/2, pi/2)"
   ]
  },
  {
   "cell_type": "code",
   "execution_count": null,
   "metadata": {},
   "outputs": [],
   "source": [
    "Integrale(log, 1, 10)"
   ]
  },
  {
   "cell_type": "markdown",
   "metadata": {},
   "source": [
    "### 3.2.5 Definizione di procedure <`lambda`>\n",
    "Negli esempi precedenti abbiamo definito alcune procedure molto semplici, il cui unico scopo era quello di essere usate come parametri formali di altre procedure, come ad esempio le procedure `Next` e `Identity`.\n",
    "\n",
    "In molti linguaggi, quando si devono definire delle procedure per un uso \"locale\", si usano quelle che in gergo vengono chiamate le \"*lambda functions*\". In pratica, si introduce nella **SINTASSI del linguaggio di programmazione**, la possibilità di definire delle procedure senza specificarne direttamente il nome (vengono chiamate funzioni *anonime*), ed usandole direttamente come parametri di chiamate ad altre procedure. La sintassi in Python è la seguente:\n",
    "\n",
    "```\n",
    "lambda x: <corpo della procedura in cui viene usata la variabile x>\n",
    "```\n",
    "\n",
    "La prima è la parola chiave `lambda`, che è una parola chiave del linguaggio. Alla parola chiave `lambda` segue una lista di parametri formali (di solito se ne usa solo uno). Infine, dopo i due punti <:> segue il corpo della procedura.\n",
    "\n",
    "Per esempio la funzione `Integrale` definita sopra potrebbe essere usata nel modo seguente, per calcolare l'integrale di $x^3$:"
   ]
  },
  {
   "cell_type": "code",
   "execution_count": null,
   "metadata": {},
   "outputs": [],
   "source": [
    "F = lambda x: x**3"
   ]
  },
  {
   "cell_type": "code",
   "execution_count": null,
   "metadata": {},
   "outputs": [],
   "source": [
    "F\n"
   ]
  },
  {
   "cell_type": "code",
   "execution_count": null,
   "metadata": {},
   "outputs": [],
   "source": [
    "F(3)"
   ]
  },
  {
   "cell_type": "markdown",
   "metadata": {},
   "source": [
    "Se volessimo invece calcolare l'integrale di $x^4$:"
   ]
  },
  {
   "cell_type": "code",
   "execution_count": null,
   "metadata": {},
   "outputs": [],
   "source": [
    "Integrale(lambda x: x**4, 0, 1)"
   ]
  },
  {
   "cell_type": "code",
   "execution_count": null,
   "metadata": {},
   "outputs": [],
   "source": [
    "who"
   ]
  },
  {
   "cell_type": "code",
   "execution_count": null,
   "metadata": {},
   "outputs": [],
   "source": [
    "H = lambda x: x**4"
   ]
  },
  {
   "cell_type": "code",
   "execution_count": null,
   "metadata": {},
   "outputs": [],
   "source": [
    "H"
   ]
  },
  {
   "cell_type": "code",
   "execution_count": null,
   "metadata": {},
   "outputs": [],
   "source": [
    "H(2)"
   ]
  },
  {
   "cell_type": "code",
   "execution_count": null,
   "metadata": {},
   "outputs": [],
   "source": [
    "def H(x):\n",
    "    return x**4"
   ]
  },
  {
   "cell_type": "markdown",
   "metadata": {},
   "source": [
    "Si noti come si è definita una piccola funzione anonima, senza darle un nome, che viene usata solo come parametro alla chiamata di un'altra procedura.\n",
    "\n",
    "In maniera analoga, la funzione `PI(N)` potrebbe essere definita direttamente nel modo seguente:"
   ]
  },
  {
   "cell_type": "code",
   "execution_count": null,
   "metadata": {},
   "outputs": [],
   "source": [
    "def PILambda(x, y):\n",
    "    return 8*Sigma(x, y, lambda i: 1/(i*(i+2)), lambda i: i+4)"
   ]
  },
  {
   "cell_type": "code",
   "execution_count": null,
   "metadata": {},
   "outputs": [],
   "source": [
    "PILambda(1,10000)"
   ]
  },
  {
   "cell_type": "code",
   "execution_count": null,
   "metadata": {},
   "outputs": [],
   "source": [
    "F = lambda x,y: x*y"
   ]
  },
  {
   "cell_type": "code",
   "execution_count": null,
   "metadata": {},
   "outputs": [],
   "source": [
    "F(13,13)"
   ]
  },
  {
   "cell_type": "markdown",
   "metadata": {},
   "source": [
    "### 3.2.6 Procedure come oggetti restituiti da una procedura\n",
    "Le procedure e le funzioni posso essere utilizzate come valore di ritorno di una funzione.\n",
    "\n",
    "Consideriamo l'esempio seguente. Si vuole scrivere una procedura che implementi la funzione composta\n",
    "\n",
    "$$\n",
    "    f(x) = 2\\,g(x)\n",
    "$$\n",
    "\n",
    "Senza specificare quale sia la funzione $g(x)$, che deve essere un parametro di input della nostra funzione **high order**.\n",
    "Possiamo scrivere la seguente funzione high order:"
   ]
  },
  {
   "cell_type": "code",
   "execution_count": null,
   "metadata": {},
   "outputs": [],
   "source": [
    "lambda x: 2*G(x)"
   ]
  },
  {
   "cell_type": "code",
   "execution_count": null,
   "metadata": {},
   "outputs": [],
   "source": [
    "def FunFactory(G):\n",
    "    def H(x):\n",
    "        return 2*G(x)\n",
    "    return H"
   ]
  },
  {
   "cell_type": "markdown",
   "metadata": {},
   "source": [
    "In questo caso, abbiamo scritto una funzione chiamata `FunFactory` che prende in input una procedura `F`, e restituisce in output una funzione che calcola la funzione `2*G(x)`.\n",
    "\n",
    "Questa funzione **HIGH-ORDER**, può essere utilizzata nel modo seguente, per calcolare la funzione composta $f(g(x))=2g(x)$, in cui $g(x)= x^2$:"
   ]
  },
  {
   "cell_type": "code",
   "execution_count": null,
   "metadata": {},
   "outputs": [],
   "source": [
    "def quadrato(x):\n",
    "    return x**2\n",
    "F1 = FunFactory(quadrato)\n",
    "print(F1)\n",
    "print(F1(3))"
   ]
  },
  {
   "cell_type": "markdown",
   "metadata": {},
   "source": [
    "Le funzioni `lambda` possono essere anche usate per poter semplificare l'implementazione della funzione `FunFactory`, ottenendo un risultato analogo al precedente risultato:"
   ]
  },
  {
   "cell_type": "code",
   "execution_count": null,
   "metadata": {},
   "outputs": [],
   "source": [
    "print(FunFactory(lambda x: x**2)(3))"
   ]
  },
  {
   "cell_type": "markdown",
   "metadata": {},
   "source": [
    "**NOTA:** La possibilità di definire procedure e funzioni HIGH-ORDER, che prendono in input delle procedure e/o restituiscono in output altre procedure, è una caratteristica molto importante di un linguaggio di programmazione, che permette di introdurre in maniera astratta, ma elegante, funzioni che possono effettuare dei calcoli anche complessi."
   ]
  },
  {
   "cell_type": "code",
   "execution_count": null,
   "metadata": {},
   "outputs": [],
   "source": [
    "# PER CAMBIARE IL RECURSION LIMIT\n",
    "import sys\n",
    "sys.setrecursionlimit(3000)\n",
    "print(sys.getrecursionlimit())"
   ]
  }
 ],
 "metadata": {
  "@webio": {
   "lastCommId": null,
   "lastKernelId": null
  },
  "kernelspec": {
   "display_name": "env_grb",
   "language": "python",
   "name": "python3"
  },
  "language_info": {
   "codemirror_mode": {
    "name": "ipython",
    "version": 3
   },
   "file_extension": ".py",
   "mimetype": "text/x-python",
   "name": "python",
   "nbconvert_exporter": "python",
   "pygments_lexer": "ipython3",
   "version": "3.12.6"
  }
 },
 "nbformat": 4,
 "nbformat_minor": 2
}
