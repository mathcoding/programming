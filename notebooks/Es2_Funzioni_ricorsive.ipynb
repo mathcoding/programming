{
 "cells": [
  {
   "cell_type": "markdown",
   "metadata": {},
   "source": [
    "# Esercitazione 2: Funzioni Ricorsive"
   ]
  },
  {
   "cell_type": "markdown",
   "metadata": {},
   "source": [
    "### Esercizio 2.1\n",
    "Si scriva una funzione $f : \\mathbb{Z} \\rightarrow \\{$ `True, False` $\\}$, che prende in input $x$ un numero interno e restituisce `True` se il numero è pari e `False` altrimenti."
   ]
  },
  {
   "cell_type": "code",
   "execution_count": null,
   "metadata": {},
   "outputs": [],
   "source": [
    "# Svolgere qui la soluzione dell'esercizio 2.2\n",
    "#\n",
    "# def .."
   ]
  },
  {
   "cell_type": "markdown",
   "metadata": {},
   "source": [
    "### Esercizio 2.2\n",
    "Scrivere una procedura `ContaConPasso(a, b, t)` che stampa a video\n",
    "la successione di numeri seguente: \n",
    "\n",
    "$[a, (a+t), ((a+t)+t), (((a+t)+t)+t)\\dots, c],$ \n",
    "\n",
    "sino a quando $c\\geq b$."
   ]
  },
  {
   "cell_type": "code",
   "execution_count": null,
   "metadata": {},
   "outputs": [],
   "source": [
    "# Svolgere qui la soluzione dell'esercizio 2.2\n",
    "#\n",
    "# def .."
   ]
  },
  {
   "cell_type": "markdown",
   "metadata": {},
   "source": [
    "### Esercizio 2.3\n",
    "Il metodo di Newton per trovare la radice cubica di un numero si basa sul fatto che se $y_k$ è un'approssimazione della radice cubica di $x$, allora un'approssimazione migliore è data da $$y_{k+1} \\leftarrow \\frac{\\frac{x}{y_k^2} + 2y_k}{3}$$\n",
    "\n",
    "Si usi questa formula per implementare una procedura analoga a quella scritta a lezione per trovare la radice quadrata."
   ]
  },
  {
   "cell_type": "code",
   "execution_count": null,
   "metadata": {},
   "outputs": [],
   "source": [
    "# Svolgere qui la soluzione dell'esercizio 2.3\n",
    "#\n",
    "# def .."
   ]
  },
  {
   "cell_type": "markdown",
   "metadata": {},
   "source": [
    "### Esercizio 2.4\n",
    "Il **Massimo Comun Divisore (MCD)** di due numeri intero $a$ e $b$ è definito come\n",
    "il più grande numero intero che divide sia $a$ che $b$ senza resto.\n",
    "Esiste un algoritmo famoso, dovuto ad Euclide, per calcolare tale numero.\n",
    "L'idea dell'algoritmo si basa sull'osservazione che, se $r$ è il resto di quando $a$ è diviso per $b$,\n",
    "allora i divisori comuni di $a$ e $b$ sono esattamente gli stessi divisori comuni tra $b$ e $r$.\n",
    "Quindi possiamo usare l'equazione $$MCD(a,b) = MCD(b,r)$$ per ridurre il problema di\n",
    "trovare i divisori comuni calcolando il MCD tra coppie di numeri interi via via più piccoli. Per esempio:\n",
    "\n",
    "```MCD(206,40) = MCD(40,6) = MCD(6,4) = MCD(4,2) = MCD(2,0)=2```\n",
    "\n",
    "Scrivere una funzione che calcola il massimo comune divisore usando l'algoritmo di Euclide.\n",
    "\n",
    "**NOTA**: per calcolare il resto di una divisione tra due numeri interi si usa l'operatore modulo `%`,\n",
    "ovvero il simbolo percentuale (esempio: `7 % 3 = 1`)."
   ]
  },
  {
   "cell_type": "code",
   "execution_count": null,
   "metadata": {},
   "outputs": [],
   "source": []
  },
  {
   "cell_type": "markdown",
   "metadata": {},
   "source": [
    "### Facoltativo: Challenge 1\n",
    "Si consideri il problema seguente. Siano date le monetine da 1, 2, 5 e 10 centesimi di euro: quanti modi esistono per cambiare una monetina da 20 centesimi? E se consideriamo anche le monetine da 20 e 50 centesimi, in quanti modi possiamo cambiare una moneta da un euro?"
   ]
  },
  {
   "cell_type": "code",
   "execution_count": null,
   "metadata": {},
   "outputs": [],
   "source": [
    "# Svolgere qui la soluzione della challenge 1\n",
    "#\n",
    "# def .."
   ]
  }
 ],
 "metadata": {
  "@webio": {
   "lastCommId": null,
   "lastKernelId": null
  },
  "kernelspec": {
   "display_name": "Python 3.11.5 64-bit",
   "language": "python",
   "name": "python3"
  },
  "language_info": {
   "codemirror_mode": {
    "name": "ipython",
    "version": 3
   },
   "file_extension": ".py",
   "mimetype": "text/x-python",
   "name": "python",
   "nbconvert_exporter": "python",
   "pygments_lexer": "ipython3",
   "version": "3.11.5"
  },
  "vscode": {
   "interpreter": {
    "hash": "b0fa6594d8f4cbf19f97940f81e996739fb7646882a419484c72d19e05852a7e"
   }
  }
 },
 "nbformat": 4,
 "nbformat_minor": 2
}
