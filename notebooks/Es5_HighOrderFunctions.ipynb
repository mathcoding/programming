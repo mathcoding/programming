{
 "cells": [
  {
   "cell_type": "markdown",
   "metadata": {},
   "source": [
    "# Esercitazione 5: High-Order Functions\n",
    "### Esercizio 5.1\n",
    "La procedura `Sigma` vista a lezione nel notebook `Lab 7` genera un *processo ricorsivo lineare*.\n",
    "La stessa procedura può essere riscritta in modo tale che il processo generato sia **iterativo**:\n",
    "scrivere la procedura che genera un *processo iterativo lineare* per il calcolo della sommatoria."
   ]
  },
  {
   "cell_type": "code",
   "execution_count": null,
   "metadata": {},
   "outputs": [],
   "source": [
    "# Svolgere qui la soluzione dell'esercizio 5.1\n",
    "#\n",
    "# def .."
   ]
  },
  {
   "cell_type": "markdown",
   "metadata": {},
   "source": [
    "### Esercizio 5.2\n",
    "Riscrivere la funzione `Integrale(F, a, b, dx=0.01)` vista a lezione nel notebook `Lab 7`, utilizzando la funzione che avete definito nell'esercizio precedente (implicitamente calcolando l'integrale per parti con un processo iterativo lineare)."
   ]
  },
  {
   "cell_type": "code",
   "execution_count": null,
   "metadata": {},
   "outputs": [],
   "source": [
    "# Svolgere qui la soluzione dell'esercizio 5.2\n",
    "#\n",
    "# def .."
   ]
  },
  {
   "cell_type": "markdown",
   "metadata": {},
   "source": [
    "### Esercizio 5.3\n",
    "Analogamente alla funzione `Sigma`, si può definire una funzione `Produttoria` che restituisce i valori dei prodotti di una funzione valutata in un insieme di punti definiti nell'intervallo $[a,b]$:\n",
    "\n",
    "$$\n",
    "  \\prod_{n=a}^b f(n) = f(a)\\cdot ... \\cdot f(b)\n",
    "$$\n",
    "\n",
    "Scrivere tale funzione e mostrare come sia possibile usarla per calcolare $n!$"
   ]
  },
  {
   "cell_type": "code",
   "execution_count": null,
   "metadata": {},
   "outputs": [],
   "source": [
    "# Svolgere qui la soluzione dell'esercizio 5.3\n",
    "#\n",
    "# def .."
   ]
  }
 ],
 "metadata": {
  "kernelspec": {
   "display_name": "Python 3.11.5 64-bit",
   "language": "python",
   "name": "python3"
  },
  "language_info": {
   "codemirror_mode": {
    "name": "ipython",
    "version": 3
   },
   "file_extension": ".py",
   "mimetype": "text/x-python",
   "name": "python",
   "nbconvert_exporter": "python",
   "pygments_lexer": "ipython3",
   "version": "3.11.5"
  },
  "vscode": {
   "interpreter": {
    "hash": "b0fa6594d8f4cbf19f97940f81e996739fb7646882a419484c72d19e05852a7e"
   }
  }
 },
 "nbformat": 4,
 "nbformat_minor": 2
}
