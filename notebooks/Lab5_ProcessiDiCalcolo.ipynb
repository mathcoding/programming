{
 "cells": [
  {
   "cell_type": "markdown",
   "metadata": {},
   "source": [
    "## 2.2 Procedure e processi\n",
    "Una procedura definisce uno \"schema\" di evoluzione *locale* di un processo computazionale. La procedura specifica in ogni fase del processo, come il processo stesso viene eseguito a partire dalla fase precedente. È interessante studiare il comportamento *globale* di un processo la cui evoluzione locale è stata specificata da una procedura. In generale, andare a studiare questo comportamento è molto complicato, ma in alcuni casi semplici si possono identificare degli schemi ricorrenti (in inglese **pattern**).\n",
    "\n",
    "Proviamo ora a studiare la \"forma\" che prendono alcuni processi generati da procedure molto semplici. Studieremo anche velocemente la velocità con cui questi processi consumano le due risorse di calcolo fondamentali:\n",
    "\n",
    "1. IL TEMPO\n",
    "2. LA MEMORIA\n",
    "\n",
    "Come nelle lezioni precedenti, le procedure che consideriamo sono semplici. Il loro ruolo è lo stesso ricoperto dai *test patterns* in [fotografia](http://www.bealecorner.org/red/test-patterns/): uno schema prototipale ipersemplificato, piuttosto che un caso d'uso reale."
   ]
  },
  {
   "cell_type": "markdown",
   "metadata": {},
   "source": [
    "### 2.2.1 Ricorsione lineare e iterazione lineare\n",
    "Si consideri la funzione fattoriale definita come segue: si definisce il *fattoriale* di un numero naturale $n$, indicato con $n!$, il prodotto dei numeri naturali uguali o minori a $n$, ovvero:\n",
    "\n",
    "$$n! = \\prod_{k=1}^n k = 1 \\cdot 2 \\cdot 3 \\cdot \\cdot \\cdot (n-2) \\cdot (n-1) \\cdot n$$\n",
    "\n",
    "Esistono molti modi di calcolare il fattoriale di un numero naturale. Un modo è di osservare che $n!$ è uguale ad $n$ volte $(n-1)!$ per qualsiasi intero $n$:\n",
    "\n",
    "$$ n! = n \\cdot [(n-1)\\cdot(n-2)\\cdots 3 \\cdot 2 \\cdot 1] = n \\cdot (n-1)!$$\n",
    "\n",
    "In questo modo possiamo calcolare $n!$ calcolando **prima** $(n-1)!$ e moltiplicando **poi** il risultato per $n$. Se aggiungiamo la definizione che $1!$ è uguale a 1, possiamo definire la procedura seguente:"
   ]
  },
  {
   "cell_type": "code",
   "execution_count": null,
   "metadata": {},
   "outputs": [],
   "source": [
    "def Fact(n):\n",
    "    return 0\n",
    "    \n",
    "print(Fact(5))"
   ]
  },
  {
   "cell_type": "markdown",
   "metadata": {},
   "source": [
    "Se usiamo il *substitution model* per valutare la procedure per $5!$, otteniamo lo schema seguente:\n",
    "\n",
    "```\n",
    "Fattoriale(5)\n",
    "5 * Fattoriale(4)\n",
    "5 * (4 * Fattoriale(3))\n",
    "5 * (4 * (3 * Fattoriale(2)))\n",
    "5 * (4 * (3 * (2 * Fattoriale(1))))\n",
    "5 * (4 * (3 * (2 * 1)))\n",
    "5 * (4 * (3 * 2)) \n",
    "5 * (4 * 6) \n",
    "5 * 24\n",
    "120\n",
    "```\n",
    "\n",
    "Ora, questa procedura è corretta, in quanto produce il risultato richiesto (si può dimostrare formalmente la correttezza, ma non è lo scopo di questa capitolo).\n",
    "\n",
    "Possiamo tuttavia calcolare il fattoriale di un numero usando un approccio diverso. Potremmo descrivere una regola per calcolare il fattoriale di un numero naturale $n$ specificando che prima moltiplichiamo 1 per 2, poi moltiplichiamo il risultato per 3, poi il risultato per 4, e cosi via, sino a raggiungere il valore di $n$. \n",
    "\n",
    "Più formalmente, manteniamo una variabile per il prodotto corrente (chiamata in gergo un **accumulator**), insieme a una variabile che \"tiene il conto\" da 1 a $n$ (un **counter**). Possiamo descrivere il processo di calcolo dicendo che l'accumulator e il counter aggiornano il loro stato \"contemporaneamente\" ad ogni fase del processo di calcolo:\n",
    "\n",
    "```\n",
    "accumulator <- counter * accumulator\n",
    "counter <- counter + 1\n",
    "```\n",
    "\n",
    "Chiaramente, sia l'accumulator che il counter sono inizializzati a 1.\n",
    "\n",
    "Data questa regola per calcolare $n!$, possiamo scrivere le due procedure seguenti:"
   ]
  },
  {
   "cell_type": "code",
   "execution_count": null,
   "metadata": {},
   "outputs": [],
   "source": [
    "def FactI(x):\n",
    "    return 0"
   ]
  },
  {
   "cell_type": "code",
   "execution_count": null,
   "metadata": {},
   "outputs": [],
   "source": [
    "print(FactI(5))"
   ]
  },
  {
   "cell_type": "markdown",
   "metadata": {},
   "source": [
    "Come prima, se usiamo il *substitution model* possiamo visualizzare il processo di calcolare $5!$ usando la procedura `FactorialI`, come segue:\n",
    "\n",
    "```\n",
    "FactorialI(5)\n",
    "Rec(1, 1, 5)\n",
    "Rec(1, 2, 5)\n",
    "Rec(2, 3, 5)\n",
    "Rec(6, 4, 5)\n",
    "Rec(24, 5, 5)\n",
    "Rec(120, 6, 5)\n",
    "120\n",
    "```\n",
    "\n",
    "Si provi a confrontare questo schema di calcolo rispetto al precedente.\n",
    "\n",
    "A prima vista non sembrano troppo diversi: entrambi calcolano $5!$. Entrambe le procedure richiedono un numero di passi proporzionale al numero $n$. Entrambe le procedure eseguono la stessa sequenza di prodotti, ottenendo gli stessi prodotti parziali. Tuttavia, visualizzando l'evoluzione del processo di calcolo, otteniamo chiaramente una \"forma\" (uno schema, un *pattern*) diversa per i due processi.\n",
    "\n",
    "Si consideri il primo processo. Procedendo con il modello sostitutivo, otteniamo prima una sequenza di espansioni, seguita da una sequenza di contrazioni. Le espansioni si ottengono mentre il processo costruisce una sequenza di operazioni **deferred** (in questo caso la sequenza di moltiplicazioni). Le contrazioni avvengono quando le operazioni **deferred** sono effettivamente calcolate. \n",
    "\n",
    "Questo tipo di processo, caratterizzato da una sequenza di operazioni deffered, viene chiamato **PROCESSO RICORSIVO**. \n",
    "\n",
    "Questo processo richiede che l'interprete tenga memoria delle operazioni che deve eseguire dopo, durante la sequenza di contrazioni. Nel caso del calcolo di $n!$, la lunghezza della sequenza di operazioni deferred, e quindi la quantità di informazioni da mantenere in memoria, è lineare nell'input $n$. Si parla quindi di **PROCESSO RICORSIVO LINEARE**.\n",
    "\n",
    "Al contrario, il secondo processo, quello della procedura `FactorialI(n)` non si espande e non si contrae. Ad ogni passo, gli unici valori di cui dobbiamo tener traccia sono le tre variabili `accumulator`, `counter`, e `n`. Questo viene chiamato un **PROCESSO ITERATIVO**. In generale, un processo iterativo può essere descritto da un numero finito di *variabili di stato*, insieme con una regola che descrive come le variabili di stato dovrebbero essere aggiornate quando il processo passo da uno stato al successivo, e dovrebbe avere un test d'arresto (i.e., una espressione condizionale `if`) che specifica sotto quali condizioni il processo dovrebbe terminare. Nel calcolare $n!$ il numero di passo richiesto cresce linearmente con $n$. Tale processo viene chiamato un **PROCESSO ITERATIVO LINEARE** (in inglese vengono chiamate funzioni **tail-recursive**).\n",
    "\n",
    "### IMPORTANTE\n",
    "Nel confrontare i due tipi di processi, si deve fare attenzione a non confondere il concetto di *processo ricorsivo* con quello di *procedura e/o funzione ricorsiva*. \n",
    "\n",
    "Quando descriviamo una procedura come ricorsiva, ci stiamo riferendo al fatto di definire una funzione che richiama se stessa.\n",
    "\n",
    "Tuttavia, quando descriviamo un processo che segue uno schema linearmente ricorsivo, stiamo parlando di come il processo evolve, non della sintassi che viene usata per scrivere la procedura. Può creare confusione il dire che una procedura ricorsiva, come ad esempio `FactorialI(n)`, genera un processo iterativo. In ogni caso il processo è iterativo: il suo stato è descritto completamente dalle sue tre variabili di stato, e l'interprete deve tener traccia solo di quelle tre variabili per poter eseguire il processo.\n",
    "\n",
    "Il motivo principale che genera questa confusione, è che molti di linguaggi di programmazione comuni (C, Java, e lo stesso Python) sono implementati in modo tale che l'esecuzione di ogni chiamata ricorsiva consuma una quantità di memoria che cresce linearmente con il numero di chiamate ricorsive alla stessa procedura, anche se il processo stesso è iterativo.\n",
    "L'implementazione di altri linguaggi di programmazione (per esempio, il LISP e Haskell) è in grado di distinguere i processi ricorsivi e i processi iterativi, e sono quindi in grado di ottimizzare il processo di calcolo usando una quantità di memoria che dipende solo dal numero di variabili di stato. \n",
    "\n",
    "### 2.2.2 Ricorsione ad albero\n",
    "Un altro schema ricorrente di calcolo è la ricorsione ad albero. Si consideri per esempio la successione dei numeri di Fibonacci, in cui ogni numero è la somma dei due numeri precedenti:\n",
    "\n",
    "$$0, 1, 1, 2, 3, 5, 8, 13, 21, ...$$\n",
    "\n",
    "![Mole Antonelliana](images/mole.jpg)\n",
    "\n",
    "In generale, l'ennessimo numero di Fibonacci può essere definito dalla regola seguente:\n",
    "\n",
    "$$Fib(n) = \\left\\{ \\begin{array}{ll} \n",
    "0 & \\text{if } n = 0 \\\\  \n",
    "1 & \\text{if } n = 1  \\\\\n",
    "Fib(n-1) + Fib(n-2) & \\text{altrimenti} \\end{array} \\right.$$\n",
    "\n",
    "**ESERCIZIO**: Tradurre questa definizione in una procedura ricorsiva per calcolare l'ennesimo numero di Fibonacci."
   ]
  },
  {
   "cell_type": "code",
   "execution_count": null,
   "metadata": {},
   "outputs": [],
   "source": [
    "def Fib(n):\n",
    "    return 0"
   ]
  },
  {
   "cell_type": "code",
   "execution_count": null,
   "metadata": {},
   "outputs": [],
   "source": [
    "Fib(5)"
   ]
  },
  {
   "cell_type": "markdown",
   "metadata": {},
   "source": [
    "Si consideri lo schema di calcolo di tale funzione (FARE ALLA LAVAGNA). Si noti che il processo stesso evolve come un albero: ad ogni nodo il processo si ramifica in due sottoprocessi, tranne che ai nodi foglia. Questo è dovuto al fatto che la procedura chiama se stessa due volte per ogni invocazione.\n",
    "\n",
    "Questa procedura per calcolare i numeri di Fibonacci è un ottimo esempio di struttura ad albero, ma è un pessimo modo di calcolare i numeri di Fibonacci. Per rendersi conto di quanto sia inefficiente, si consideri che questo processo usa un numero di passi che cresce esponenzialmente con l'input. Tuttavia, lo spazio richiesto cresce solo linearmente con l'input, in quanto dobbiamo tener traccia dei nodi al di sotto del nodo corrente a qualsiasi momento del processo. \n",
    "In generale, il numero di passi richiesto da un processo ricorsivo ad albero sarà proporzionale al numero di nodi dell'albero, mentre lo spazio richiesto sarà proporzionale alla profondità massima dell'albero.\n",
    "\n",
    "Il calcolo dei numeri di Fibonacci può essere formulato anche come un processo iterativo. L'idea è di usare una coppia di numeri $a$ e $b$, inizializzati con $Fib(1)=1$ e $Fib(0)=0$, e di applicare ripetutamente le **trasformazioni simultanee**:\n",
    "\n",
    "```\n",
    "a <- a + b\n",
    "b <- a\n",
    "```\n",
    "\n",
    "Non dovrebbe essere complicato realizzare che dopo aver applicato queste trasformazioni $n$ volte, $a$ e $b$ avranno i valori $Fib(n+1)$ e $Fib(n)$.\n",
    "\n",
    "**ESERCIZIO**: Scrivere una procedura che calcoli i numeri di Fibonacci usando un processo iterativo.\n"
   ]
  },
  {
   "cell_type": "code",
   "execution_count": null,
   "metadata": {},
   "outputs": [],
   "source": [
    "# COMPLETARE"
   ]
  },
  {
   "cell_type": "markdown",
   "metadata": {},
   "source": [
    "### 2.2.3 Calcolo di elevamento a potenza\n",
    "Si consideri il problema di calcolare l'esponenziale di un numero dato. Vorremo avere una procedura che prende come argomenti la base $b$ e un intero positivo $n$, e calcola il valore $b^n$. Un modo possibile di procedere è utilizzando la definizione ricorsiva:\n",
    "\n",
    "$$\\begin{array}{ll}b^n = b \\cdot b^{n-1}\\\\\n",
    "b^0 = 1\\end{array}$$\n",
    "\n",
    "**ESERCIZIO**: Scrivere una procedura che applichi direttamente la definizione precedente, tramite un processo ricorsivo lineare."
   ]
  },
  {
   "cell_type": "code",
   "execution_count": null,
   "metadata": {},
   "outputs": [],
   "source": [
    "# COMPLETARE"
   ]
  },
  {
   "cell_type": "markdown",
   "metadata": {},
   "source": [
    "**ESERCIZIO**: Scrivere una procedura che esegue l'elevamento a potenza usando un processo iterativo lineare."
   ]
  },
  {
   "cell_type": "code",
   "execution_count": null,
   "metadata": {},
   "outputs": [],
   "source": [
    "# COMPLETARE"
   ]
  },
  {
   "cell_type": "markdown",
   "metadata": {
    "collapsed": true
   },
   "source": [
    "### 2.2.4 Massimo Comun Divisore\n",
    "Il Massimo Comun Divisore (MCD) di due numeri intero $a$ e $b$ è definito come il più grande numero intero che divide sia $a$ che $b$ senza resto. Per esempio, il massimo comun divisore di 16 e 28 è il numero 4. Esiste un metodo famoso per calcolare tale numero: l'**algoritmo di Euclide**.\n",
    "\n",
    "L'idea dell'algoritmo si basa sull'osservazione che, se $r$ è il resto di quando $a$ è diviso per $b$, allora i divisori comuni di $a$ e $b$ sono esattamente esattamente gli stessi divisori comuni tra $b$ e $r$. Quindi possiamo usare l'equazione:\n",
    "\n",
    "$$MCD(a,b) = MCD(n,r)$$\n",
    "\n",
    "per ridurre il problema di trovare i divisori comuni calcolando il MCD tra coppie di numeri interi via via più piccoli. Per esempio:\n",
    "\n",
    "```\n",
    "MCD(206, 4) = MCD(40, 6)\n",
    "            = MCD(6,4)\n",
    "            = MCD(4,2)\n",
    "            = MCD(2,0)\n",
    "            = 2\n",
    "```\n",
    "\n",
    "**ESERCIZIO**: Scrivere una procedura che calcola il massimo comun divisore usando l'algoritmo di Euclide (per calcolare il resto di una divisione tra due numeri interi si usa l'operatore modulo `%`)."
   ]
  },
  {
   "cell_type": "code",
   "execution_count": null,
   "metadata": {},
   "outputs": [],
   "source": [
    "# COMPLETARE"
   ]
  }
 ],
 "metadata": {
  "@webio": {
   "lastCommId": null,
   "lastKernelId": null
  },
  "kernelspec": {
   "display_name": "Python 3 (ipykernel)",
   "language": "python",
   "name": "python3"
  },
  "language_info": {
   "codemirror_mode": {
    "name": "ipython",
    "version": 3
   },
   "file_extension": ".py",
   "mimetype": "text/x-python",
   "name": "python",
   "nbconvert_exporter": "python",
   "pygments_lexer": "ipython3",
   "version": "3.8.5"
  }
 },
 "nbformat": 4,
 "nbformat_minor": 2
}
