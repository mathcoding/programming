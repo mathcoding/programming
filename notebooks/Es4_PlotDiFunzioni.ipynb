{
 "cells": [
  {
   "cell_type": "markdown",
   "metadata": {},
   "source": [
    "# Esercitazione 4: Plot di Funzioni\n",
    "\n",
    "### Esercizio 4.1\n",
    "Rappresentare il grafico della funzione esponenziale $a^x$, nell'intervallo $[-4,4]$,\n",
    "utilizzando i seguenti valori di $a$: $1.2, 1.4, 2, 0.8, 0.7, 0.5$. \n",
    "\n",
    "Sovrapporre i grafici nella stessa figura."
   ]
  },
  {
   "cell_type": "code",
   "execution_count": null,
   "metadata": {},
   "outputs": [],
   "source": [
    "# Svolgere qui la soluzione dell'esercizio 4.1\n",
    "#\n",
    "# def .."
   ]
  },
  {
   "cell_type": "markdown",
   "metadata": {},
   "source": [
    "### Esercizio 4.2\n",
    "Rappresentare il grafico della funzione tangente nell'intervallo $[-4\\pi,4\\pi]$."
   ]
  },
  {
   "cell_type": "code",
   "execution_count": null,
   "metadata": {},
   "outputs": [],
   "source": [
    "# Svolgere qui la soluzione dell'esercizio 4.2\n",
    "#\n",
    "# def .."
   ]
  },
  {
   "cell_type": "markdown",
   "metadata": {},
   "source": [
    "### Esercizio 4.3\n",
    "Rappresentare il grafico della funzione $\\sin(ax)$, nell'intervallo $[-2\\pi,2\\pi]$, per $a \\in \\{1,2,3,4\\}$."
   ]
  },
  {
   "cell_type": "code",
   "execution_count": null,
   "metadata": {},
   "outputs": [],
   "source": [
    "# Svolgere qui la soluzione dell'esercizio 4.3\n",
    "#\n",
    "# def .."
   ]
  },
  {
   "cell_type": "markdown",
   "metadata": {},
   "source": [
    "### Esercizio 4.4\n",
    "Eseguire il grafico sovrapposto delle funzioni seguenti:\n",
    "\n",
    "$$R(n)=n, R(n)=10^5\\,n, R(n)=n^2, R(n)=\\log{n}, R(n)=n\\log{n}, R(n)=1.6^n, R(n)=2^n$$"
   ]
  },
  {
   "cell_type": "code",
   "execution_count": null,
   "metadata": {},
   "outputs": [],
   "source": [
    "# Svolgere qui la soluzione dell'esercizio 4.4\n",
    "#\n",
    "# def .."
   ]
  }
 ],
 "metadata": {
  "kernelspec": {
   "display_name": "Python 3.11.5 64-bit",
   "language": "python",
   "name": "python3"
  },
  "language_info": {
   "codemirror_mode": {
    "name": "ipython",
    "version": 3
   },
   "file_extension": ".py",
   "mimetype": "text/x-python",
   "name": "python",
   "nbconvert_exporter": "python",
   "pygments_lexer": "ipython3",
   "version": "3.11.5"
  },
  "vscode": {
   "interpreter": {
    "hash": "b0fa6594d8f4cbf19f97940f81e996739fb7646882a419484c72d19e05852a7e"
   }
  }
 },
 "nbformat": 4,
 "nbformat_minor": 2
}
